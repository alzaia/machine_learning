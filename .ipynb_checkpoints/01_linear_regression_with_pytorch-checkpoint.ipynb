{
 "cells": [
  {
   "cell_type": "markdown",
   "metadata": {},
   "source": [
    "## Linear Regression with Pytorch"
   ]
  },
  {
   "cell_type": "markdown",
   "metadata": {},
   "source": [
    "### Version 1: from scratch"
   ]
  },
  {
   "cell_type": "code",
   "execution_count": 1,
   "metadata": {},
   "outputs": [],
   "source": [
    "import torch \n",
    "import numpy as np\n",
    "from torch.autograd import Variable "
   ]
  },
  {
   "cell_type": "code",
   "execution_count": 2,
   "metadata": {},
   "outputs": [
    {
     "name": "stdout",
     "output_type": "stream",
     "text": [
      "('y1_targets:', array([[ 2. ],\n",
      "       [ 9. ],\n",
      "       [ 9. ],\n",
      "       [ 6. ],\n",
      "       [ 3. ],\n",
      "       [ 5.5],\n",
      "       [18.5],\n",
      "       [11. ]], dtype=float32))\n",
      "('y2_targets:', array([[ 11. ],\n",
      "       [  3. ],\n",
      "       [ 13. ],\n",
      "       [ 15.5],\n",
      "       [  2. ],\n",
      "       [  4.5],\n",
      "       [-10. ],\n",
      "       [ 17. ]], dtype=float32))\n",
      "('targets:', array([[  2. ,  11. ],\n",
      "       [  9. ,   3. ],\n",
      "       [  9. ,  13. ],\n",
      "       [  6. ,  15.5],\n",
      "       [  3. ,   2. ],\n",
      "       [  5.5,   4.5],\n",
      "       [ 18.5, -10. ],\n",
      "       [ 11. ,  17. ]], dtype=float32))\n"
     ]
    }
   ],
   "source": [
    "# 4 input features: x1, x2, x3, x4\n",
    "inputs = np.array([[1, 2, 2, 4], \n",
    "                   [2, 3, 2, 1], \n",
    "                   [3, 5, 1, 3], \n",
    "                   [1, 4, 3, 5],\n",
    "                   [1, 1, 1, 1], \n",
    "                   [2, 2, 2, 2], \n",
    "                   [1, 2, 10, 1],\n",
    "                   [4, 5, 6, 7]], dtype='float32')\n",
    "\n",
    "# Targets (y1 and y2)\n",
    "y1_weights = np.array([0.5, 2, 1.5, -1.5], dtype='float32')\n",
    "y1_targets = inputs.dot(y1_weights.reshape(4,1)) + 0.5\n",
    "print('y1_targets:', y1_targets)\n",
    "\n",
    "y2_weights = np.array([-0.5, 1.5, -1.5, 3], dtype='float32')\n",
    "y2_targets = inputs.dot(y2_weights.reshape(4,1)) - 0.5\n",
    "print('y2_targets:', y2_targets)\n",
    "\n",
    "targets = np.concatenate((y1_targets,y2_targets), axis=1)\n",
    "print('targets:', targets)"
   ]
  },
  {
   "cell_type": "code",
   "execution_count": 3,
   "metadata": {},
   "outputs": [
    {
     "name": "stdout",
     "output_type": "stream",
     "text": [
      "('inputs:', tensor([[ 1.,  2.,  2.,  4.],\n",
      "        [ 2.,  3.,  2.,  1.],\n",
      "        [ 3.,  5.,  1.,  3.],\n",
      "        [ 1.,  4.,  3.,  5.],\n",
      "        [ 1.,  1.,  1.,  1.],\n",
      "        [ 2.,  2.,  2.,  2.],\n",
      "        [ 1.,  2., 10.,  1.],\n",
      "        [ 4.,  5.,  6.,  7.]]))\n",
      "('targets:', tensor([[  2.0000,  11.0000],\n",
      "        [  9.0000,   3.0000],\n",
      "        [  9.0000,  13.0000],\n",
      "        [  6.0000,  15.5000],\n",
      "        [  3.0000,   2.0000],\n",
      "        [  5.5000,   4.5000],\n",
      "        [ 18.5000, -10.0000],\n",
      "        [ 11.0000,  17.0000]]))\n"
     ]
    }
   ],
   "source": [
    "# Convert inputs and targets to tensors\n",
    "inputs = torch.from_numpy(inputs)\n",
    "targets = torch.from_numpy(targets)\n",
    "print('inputs:',inputs)\n",
    "print('targets:',targets)"
   ]
  },
  {
   "cell_type": "code",
   "execution_count": 4,
   "metadata": {},
   "outputs": [
    {
     "name": "stdout",
     "output_type": "stream",
     "text": [
      "('random weights:', tensor([[ 1.0042, -0.6606, -1.8736,  0.0220],\n",
      "        [ 0.2427, -0.3321, -0.0146, -0.0202]], requires_grad=True))\n",
      "('random biases:', tensor([ 0.5119, -0.4131], requires_grad=True))\n"
     ]
    }
   ],
   "source": [
    "# Init. weights and biases\n",
    "w = torch.randn(2, 4, requires_grad=True)\n",
    "b = torch.randn(2, requires_grad=True)\n",
    "print('random weights:',w)\n",
    "print('random biases:',b)"
   ]
  },
  {
   "cell_type": "code",
   "execution_count": 5,
   "metadata": {},
   "outputs": [],
   "source": [
    "# Define the simple linear model from scratch\n",
    "def model(x):\n",
    "    x = torch.mm(x, w.t()) + b\n",
    "    return x"
   ]
  },
  {
   "cell_type": "code",
   "execution_count": 6,
   "metadata": {},
   "outputs": [
    {
     "name": "stdout",
     "output_type": "stream",
     "text": [
      "tensor([[ -3.4642,  -0.9448],\n",
      "        [ -3.1867,  -0.9736],\n",
      "        [ -1.5860,  -1.4210],\n",
      "        [ -6.6370,  -1.6439],\n",
      "        [ -0.9961,  -0.5374],\n",
      "        [ -2.5041,  -0.6617],\n",
      "        [-18.5193,  -1.0012],\n",
      "        [ -9.8617,  -1.3323]], grad_fn=<AddBackward0>)\n"
     ]
    }
   ],
   "source": [
    "# Generate predictions using the random weights\n",
    "preds = model(inputs)\n",
    "print(preds)"
   ]
  },
  {
   "cell_type": "code",
   "execution_count": 7,
   "metadata": {},
   "outputs": [],
   "source": [
    "# Define MSE loss from scratch\n",
    "def mse(t1, t2):\n",
    "    diff = t1 - t2\n",
    "    return torch.sum(diff * diff) / diff.numel()"
   ]
  },
  {
   "cell_type": "code",
   "execution_count": 47,
   "metadata": {},
   "outputs": [],
   "source": [
    "# Train for 1000 epochs with a learning rate of 0.01\n",
    "for i in range(1000):\n",
    "    preds = model(inputs)\n",
    "    loss = mse(preds, targets)\n",
    "    loss.backward()\n",
    "    with torch.no_grad():\n",
    "        w -= w.grad * 1e-2\n",
    "        b -= b.grad * 1e-2\n",
    "        w.grad.zero_()\n",
    "        b.grad.zero_()"
   ]
  },
  {
   "cell_type": "code",
   "execution_count": 9,
   "metadata": {},
   "outputs": [
    {
     "name": "stdout",
     "output_type": "stream",
     "text": [
      "tensor(0.0046, grad_fn=<DivBackward0>)\n"
     ]
    }
   ],
   "source": [
    "# Calculate loss\n",
    "preds = model(inputs)\n",
    "loss = mse(preds, targets)\n",
    "print(loss)"
   ]
  },
  {
   "cell_type": "code",
   "execution_count": 10,
   "metadata": {},
   "outputs": [
    {
     "data": {
      "text/plain": [
       "tensor([[  2.0918,  11.0353],\n",
       "        [  9.0199,   3.0048],\n",
       "        [  8.9294,  12.9647],\n",
       "        [  5.9153,  15.4432],\n",
       "        [  3.1541,   2.0659],\n",
       "        [  5.6218,   4.5595],\n",
       "        [ 18.4783, -10.0138],\n",
       "        [ 10.9853,  17.0126]], grad_fn=<AddBackward0>)"
      ]
     },
     "execution_count": 10,
     "metadata": {},
     "output_type": "execute_result"
    }
   ],
   "source": [
    "# Print predictions from the trained model\n",
    "preds"
   ]
  },
  {
   "cell_type": "code",
   "execution_count": 11,
   "metadata": {},
   "outputs": [
    {
     "data": {
      "text/plain": [
       "tensor([[  2.0000,  11.0000],\n",
       "        [  9.0000,   3.0000],\n",
       "        [  9.0000,  13.0000],\n",
       "        [  6.0000,  15.5000],\n",
       "        [  3.0000,   2.0000],\n",
       "        [  5.5000,   4.5000],\n",
       "        [ 18.5000, -10.0000],\n",
       "        [ 11.0000,  17.0000]])"
      ]
     },
     "execution_count": 11,
     "metadata": {},
     "output_type": "execute_result"
    }
   ],
   "source": [
    "# Print targets\n",
    "targets"
   ]
  },
  {
   "cell_type": "code",
   "execution_count": 12,
   "metadata": {},
   "outputs": [
    {
     "name": "stdout",
     "output_type": "stream",
     "text": [
      "tensor([[ 0.5546,  1.9104,  1.4904, -1.4877],\n",
      "        [-0.4620,  1.4523, -1.5035,  3.0069]], requires_grad=True)\n",
      "tensor([ 0.6864, -0.4278], requires_grad=True)\n"
     ]
    }
   ],
   "source": [
    "# Print weights and biases found by the training\n",
    "# The target weights are: [0.5 2 1.5 -1.5] and [-0.5 1.5 -1.5 3]\n",
    "# The target biases are 0.5 and -0.5\n",
    "print(w)\n",
    "print(b)"
   ]
  },
  {
   "cell_type": "code",
   "execution_count": null,
   "metadata": {},
   "outputs": [],
   "source": []
  },
  {
   "cell_type": "markdown",
   "metadata": {},
   "source": [
    "### Version 2: using pytorch build in utilities"
   ]
  },
  {
   "cell_type": "code",
   "execution_count": 22,
   "metadata": {},
   "outputs": [],
   "source": [
    "# Imports\n",
    "import torch.nn as nn"
   ]
  },
  {
   "cell_type": "code",
   "execution_count": 23,
   "metadata": {},
   "outputs": [
    {
     "name": "stdout",
     "output_type": "stream",
     "text": [
      "('y1_targets:', array([[ 2. ],\n",
      "       [ 9. ],\n",
      "       [ 9. ],\n",
      "       [ 6. ],\n",
      "       [ 3. ],\n",
      "       [ 5.5],\n",
      "       [18.5],\n",
      "       [11. ]], dtype=float32))\n",
      "('y2_targets:', array([[ 11. ],\n",
      "       [  3. ],\n",
      "       [ 13. ],\n",
      "       [ 15.5],\n",
      "       [  2. ],\n",
      "       [  4.5],\n",
      "       [-10. ],\n",
      "       [ 17. ]], dtype=float32))\n",
      "('targets:', array([[  2. ,  11. ],\n",
      "       [  9. ,   3. ],\n",
      "       [  9. ,  13. ],\n",
      "       [  6. ,  15.5],\n",
      "       [  3. ,   2. ],\n",
      "       [  5.5,   4.5],\n",
      "       [ 18.5, -10. ],\n",
      "       [ 11. ,  17. ]], dtype=float32))\n"
     ]
    }
   ],
   "source": [
    "# 4 input features: x1, x2, x3, x4\n",
    "inputs = np.array([[1, 2, 2, 4], \n",
    "                   [2, 3, 2, 1], \n",
    "                   [3, 5, 1, 3], \n",
    "                   [1, 4, 3, 5],\n",
    "                   [1, 1, 1, 1], \n",
    "                   [2, 2, 2, 2], \n",
    "                   [1, 2, 10, 1],\n",
    "                   [4, 5, 6, 7]], dtype='float32')\n",
    "\n",
    "# Targets (y1 and y2)\n",
    "y1_weights = np.array([0.5, 2, 1.5, -1.5], dtype='float32')\n",
    "y1_targets = inputs.dot(y1_weights.reshape(4,1)) + 0.5\n",
    "print('y1_targets:', y1_targets)\n",
    "\n",
    "y2_weights = np.array([-0.5, 1.5, -1.5, 3], dtype='float32')\n",
    "y2_targets = inputs.dot(y2_weights.reshape(4,1)) - 0.5\n",
    "print('y2_targets:', y2_targets)\n",
    "\n",
    "targets = np.concatenate((y1_targets,y2_targets), axis=1)\n",
    "print('targets:', targets)"
   ]
  },
  {
   "cell_type": "code",
   "execution_count": 24,
   "metadata": {},
   "outputs": [
    {
     "name": "stdout",
     "output_type": "stream",
     "text": [
      "('inputs:', tensor([[ 1.,  2.,  2.,  4.],\n",
      "        [ 2.,  3.,  2.,  1.],\n",
      "        [ 3.,  5.,  1.,  3.],\n",
      "        [ 1.,  4.,  3.,  5.],\n",
      "        [ 1.,  1.,  1.,  1.],\n",
      "        [ 2.,  2.,  2.,  2.],\n",
      "        [ 1.,  2., 10.,  1.],\n",
      "        [ 4.,  5.,  6.,  7.]]))\n",
      "('targets:', tensor([[  2.0000,  11.0000],\n",
      "        [  9.0000,   3.0000],\n",
      "        [  9.0000,  13.0000],\n",
      "        [  6.0000,  15.5000],\n",
      "        [  3.0000,   2.0000],\n",
      "        [  5.5000,   4.5000],\n",
      "        [ 18.5000, -10.0000],\n",
      "        [ 11.0000,  17.0000]]))\n"
     ]
    }
   ],
   "source": [
    "# Convert inputs and targets to tensors\n",
    "inputs = torch.from_numpy(inputs)\n",
    "targets = torch.from_numpy(targets)\n",
    "print('inputs:',inputs)\n",
    "print('targets:',targets)"
   ]
  },
  {
   "cell_type": "code",
   "execution_count": 32,
   "metadata": {},
   "outputs": [
    {
     "name": "stdout",
     "output_type": "stream",
     "text": [
      "Parameter containing:\n",
      "tensor([[ 0.0783,  0.0329,  0.0218,  0.1350],\n",
      "        [-0.2580, -0.3666, -0.2681,  0.1614]], requires_grad=True)\n",
      "Parameter containing:\n",
      "tensor([ 0.4295, -0.3706], requires_grad=True)\n"
     ]
    }
   ],
   "source": [
    "# Define model with 4 weights and 2 biases\n",
    "model = nn.Linear(4, 2)\n",
    "print(model.weight)\n",
    "print(model.bias)"
   ]
  },
  {
   "cell_type": "code",
   "execution_count": 33,
   "metadata": {},
   "outputs": [],
   "source": [
    "# Define optimizer\n",
    "opt = torch.optim.SGD(model.parameters(), lr=1e-2)"
   ]
  },
  {
   "cell_type": "code",
   "execution_count": 34,
   "metadata": {},
   "outputs": [
    {
     "name": "stdout",
     "output_type": "stream",
     "text": [
      "tensor(113.5804, grad_fn=<MseLossBackward>)\n"
     ]
    }
   ],
   "source": [
    "# Import nn.functional\n",
    "import torch.nn.functional as F\n",
    "\n",
    "# Define loss function\n",
    "loss_fn = F.mse_loss\n",
    "loss = loss_fn(model(inputs), targets)\n",
    "print(loss)"
   ]
  },
  {
   "cell_type": "code",
   "execution_count": 39,
   "metadata": {},
   "outputs": [],
   "source": [
    "# Define a utility function to train the model\n",
    "def fit(num_epochs, model, loss_fn, opt):\n",
    "    for epoch in range(num_epochs):\n",
    "        # Generate predictions\n",
    "        pred = model(inputs)\n",
    "        loss = loss_fn(pred, targets)\n",
    "        # Perform gradient descent\n",
    "        loss.backward()\n",
    "        opt.step()\n",
    "        opt.zero_grad()\n",
    "    print('Training loss: ', loss_fn(model(inputs), targets))"
   ]
  },
  {
   "cell_type": "code",
   "execution_count": 40,
   "metadata": {},
   "outputs": [
    {
     "name": "stdout",
     "output_type": "stream",
     "text": [
      "('Training loss: ', tensor(0.0022, grad_fn=<MseLossBackward>))\n"
     ]
    }
   ],
   "source": [
    "# Train the model for 100 epochs\n",
    "fit(1000, model, loss_fn, opt)"
   ]
  },
  {
   "cell_type": "code",
   "execution_count": 42,
   "metadata": {},
   "outputs": [
    {
     "data": {
      "text/plain": [
       "tensor([[  2.0578,  11.0458],\n",
       "        [  9.0141,   3.0100],\n",
       "        [  8.9602,  12.9650],\n",
       "        [  5.9604,  15.4585],\n",
       "        [  3.0932,   2.0767],\n",
       "        [  5.5695,   4.5604],\n",
       "        [ 18.4894, -10.0107],\n",
       "        [ 10.9804,  16.9921]], grad_fn=<AddmmBackward>)"
      ]
     },
     "execution_count": 42,
     "metadata": {},
     "output_type": "execute_result"
    }
   ],
   "source": [
    "# Generate predictions\n",
    "preds = model(inputs)\n",
    "preds"
   ]
  },
  {
   "cell_type": "code",
   "execution_count": 43,
   "metadata": {},
   "outputs": [
    {
     "data": {
      "text/plain": [
       "tensor([[  2.0000,  11.0000],\n",
       "        [  9.0000,   3.0000],\n",
       "        [  9.0000,  13.0000],\n",
       "        [  6.0000,  15.5000],\n",
       "        [  3.0000,   2.0000],\n",
       "        [  5.5000,   4.5000],\n",
       "        [ 18.5000, -10.0000],\n",
       "        [ 11.0000,  17.0000]])"
      ]
     },
     "execution_count": 43,
     "metadata": {},
     "output_type": "execute_result"
    }
   ],
   "source": [
    "# Compare with targets\n",
    "targets"
   ]
  },
  {
   "cell_type": "code",
   "execution_count": 45,
   "metadata": {},
   "outputs": [
    {
     "name": "stdout",
     "output_type": "stream",
     "text": [
      "Parameter containing:\n",
      "tensor([[ 0.5247,  1.9511,  1.4939, -1.4935],\n",
      "        [-0.4733,  1.4557, -1.5048,  3.0061]], requires_grad=True)\n",
      "Parameter containing:\n",
      "tensor([ 0.6169, -0.4070], requires_grad=True)\n"
     ]
    }
   ],
   "source": [
    "# Print weights and biases found by the training\n",
    "# The target weights are: [0.5 2 1.5 -1.5] and [-0.5 1.5 -1.5 3]\n",
    "# The target biases are 0.5 and -0.5\n",
    "print(model.weight)\n",
    "print(model.bias)"
   ]
  },
  {
   "cell_type": "code",
   "execution_count": null,
   "metadata": {},
   "outputs": [],
   "source": []
  },
  {
   "cell_type": "code",
   "execution_count": null,
   "metadata": {},
   "outputs": [],
   "source": []
  },
  {
   "cell_type": "code",
   "execution_count": null,
   "metadata": {},
   "outputs": [],
   "source": []
  },
  {
   "cell_type": "code",
   "execution_count": null,
   "metadata": {},
   "outputs": [],
   "source": []
  },
  {
   "cell_type": "code",
   "execution_count": null,
   "metadata": {},
   "outputs": [],
   "source": []
  }
 ],
 "metadata": {
  "kernelspec": {
   "display_name": "Python 2",
   "language": "python",
   "name": "python2"
  },
  "language_info": {
   "codemirror_mode": {
    "name": "ipython",
    "version": 2
   },
   "file_extension": ".py",
   "mimetype": "text/x-python",
   "name": "python",
   "nbconvert_exporter": "python",
   "pygments_lexer": "ipython2",
   "version": "2.7.10"
  }
 },
 "nbformat": 4,
 "nbformat_minor": 2
}
