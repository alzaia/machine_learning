{
 "cells": [
  {
   "cell_type": "code",
   "execution_count": null,
   "metadata": {},
   "outputs": [],
   "source": []
  },
  {
   "cell_type": "code",
   "execution_count": 29,
   "metadata": {},
   "outputs": [],
   "source": [
    "import matplotlib.pyplot as plt\n",
    "import numpy as np\n",
    "\n",
    "%matplotlib inline"
   ]
  },
  {
   "cell_type": "code",
   "execution_count": 133,
   "metadata": {},
   "outputs": [
    {
     "name": "stdout",
     "output_type": "stream",
     "text": [
      "[[1.00e+00 4.00e+00 1.20e-01 5.35e+02]\n",
      " [1.00e+00 5.00e+00 1.30e-01 5.10e+02]\n",
      " [1.00e+00 5.00e+00 1.40e-01 4.96e+02]\n",
      " [1.00e+00 7.00e+00 2.00e-01 4.89e+02]\n",
      " [1.00e+00 8.00e+00 2.20e-01 4.53e+02]\n",
      " [1.00e+00 8.00e+00 2.30e-01 4.12e+02]\n",
      " [1.00e+00 9.00e+00 2.30e-01 3.78e+02]\n",
      " [1.00e+00 1.10e+01 3.00e-01 3.19e+02]\n",
      " [1.00e+00 1.10e+01 3.10e-01 2.78e+02]\n",
      " [1.00e+00 1.20e+01 3.40e-01 2.56e+02]\n",
      " [1.00e+00 1.30e+01 3.50e-01 2.12e+02]\n",
      " [1.00e+00 1.40e+01 3.90e-01 1.89e+02]\n",
      " [1.00e+00 1.60e+01 4.20e-01 1.45e+02]\n",
      " [1.00e+00 1.80e+01 4.30e-01 1.20e+02]\n",
      " [1.00e+00 1.90e+01 4.80e-01 8.90e+01]\n",
      " [1.00e+00 1.90e+01 5.10e-01 6.80e+01]\n",
      " [1.00e+00 2.10e+01 5.20e-01 6.70e+01]\n",
      " [1.00e+00 2.20e+01 5.30e-01 5.60e+01]\n",
      " [1.00e+00 2.50e+01 5.60e-01 4.50e+01]\n",
      " [1.00e+00 2.70e+01 6.00e-01 3.20e+01]]\n",
      "(20, 4)\n",
      "[[21.]\n",
      " [24.]\n",
      " [27.]\n",
      " [30.]\n",
      " [29.]\n",
      " [31.]\n",
      " [32.]\n",
      " [33.]\n",
      " [36.]\n",
      " [37.]\n",
      " [41.]\n",
      " [37.]\n",
      " [40.]\n",
      " [39.]\n",
      " [41.]\n",
      " [42.]\n",
      " [44.]\n",
      " [45.]\n",
      " [45.]\n",
      " [48.]]\n",
      "(20, 1)\n"
     ]
    },
    {
     "data": {
      "image/png": "[encoded data removed]",
      "text/plain": [
       "<Figure size 1008x216 with 3 Axes>"
      ]
     },
     "metadata": {
      "needs_background": "light"
     },
     "output_type": "display_data"
    }
   ],
   "source": [
    "data_train = np.zeros((4,20))\n",
    "data_train[0] = [4, 5, 5, 7, 8, 8, 9, 11, 11, 12, 13, 14, 16, 18, 19, 19, 21, 22, 25, 27] #x1\n",
    "data_train[1] = [0.12, 0.13, 0.14, 0.20, 0.22, 0.23, 0.23, 0.30, 0.31, 0.34, 0.35, 0.39, 0.42, 0.43, 0.48, 0.51, 0.52, 0.53, 0.56, 0.60] #x2\n",
    "data_train[2] = [535, 510, 496, 489, 453, 412, 378, 319, 278, 256, 212, 189, 145, 120, 89, 68, 67, 56, 45, 32] #x3\n",
    "data_train[3] = [21, 24, 27, 30, 29, 31, 32, 33, 36, 37, 41, 37, 40, 39, 41, 42, 44, 45, 45, 48] #y\n",
    "\n",
    "data_X = np.ones((4,20))\n",
    "data_X[1:4] = data_train[0:3]\n",
    "data_X = data_X.T\n",
    "print data_X\n",
    "print data_X.shape\n",
    "\n",
    "data_Y = data_train[3,0:]\n",
    "data_Y = data_Y.reshape(20,1)\n",
    "print data_Y\n",
    "print data_Y.shape\n",
    "\n",
    "plt.figure(figsize=(14,3))\n",
    "\n",
    "plt.subplot(131)\n",
    "plt.title('Y vs X1')\n",
    "plt.xlabel('X1')\n",
    "plt.plot(data_X[0:,1], data_Y, 'bx')\n",
    "\n",
    "plt.subplot(132)\n",
    "plt.title('Y vs X2')\n",
    "plt.xlabel('X2')\n",
    "plt.plot(data_X[0:,2], data_Y, 'bx')\n",
    "\n",
    "plt.subplot(133)\n",
    "plt.title('Y vs X3')\n",
    "plt.xlabel('X3')\n",
    "plt.plot(data_X[0:,3], data_Y, 'bx')\n",
    "\n",
    "plt.show();"
   ]
  },
  {
   "cell_type": "code",
   "execution_count": 182,
   "metadata": {},
   "outputs": [
    {
     "name": "stdout",
     "output_type": "stream",
     "text": [
      "[[ 1.         -1.44422654 -1.55210058  1.5924099 ]\n",
      " [ 1.         -1.2953372  -1.48476433  1.4489754 ]\n",
      " [ 1.         -1.2953372  -1.41742807  1.36865207]\n",
      " [ 1.         -0.99755854 -1.01341057  1.32849041]\n",
      " [ 1.         -0.8486692  -0.87873807  1.12194472]\n",
      " [ 1.         -0.8486692  -0.81140182  0.88671213]\n",
      " [ 1.         -0.69977987 -0.81140182  0.6916412 ]\n",
      " [ 1.         -0.4020012  -0.34004807  0.35313576]\n",
      " [ 1.         -0.4020012  -0.27271181  0.11790317]\n",
      " [ 1.         -0.25311187 -0.07070306 -0.0083192 ]\n",
      " [ 1.         -0.10422253 -0.00336681 -0.26076393]\n",
      " [ 1.          0.0446668   0.26597819 -0.39272368]\n",
      " [ 1.          0.34244547  0.46798694 -0.64516842]\n",
      " [ 1.          0.64022413  0.53532319 -0.78860292]\n",
      " [ 1.          0.78911347  0.87200445 -0.96646171]\n",
      " [ 1.          0.78911347  1.0740132  -1.0869467 ]\n",
      " [ 1.          1.08689214  1.14134945 -1.09268408]\n",
      " [ 1.          1.23578147  1.2086857  -1.15579526]\n",
      " [ 1.          1.68244947  1.41069445 -1.21890645]\n",
      " [ 1.          1.98022814  1.68003945 -1.29349239]]\n"
     ]
    }
   ],
   "source": [
    "# Feature scaling\n",
    "\n",
    "feature_means = np.mean(data_X, axis=0)\n",
    "feature_stds = np.std(data_X, axis=0)\n",
    "\n",
    "data_X_scaled = np.ones((20,4))\n",
    "array_means = np.tile(feature_means,(20,1))\n",
    "array_stds = np.tile(feature_stds,(20,1))\n",
    "\n",
    "data_X_scaled[0:,1:4] = (data_X[0:,1:4]-array_means[0:,1:4]) / array_stds[0:,1:4]\n",
    "print data_X_scaled"
   ]
  },
  {
   "cell_type": "code",
   "execution_count": null,
   "metadata": {},
   "outputs": [],
   "source": []
  },
  {
   "cell_type": "code",
   "execution_count": null,
   "metadata": {},
   "outputs": [],
   "source": []
  },
  {
   "cell_type": "code",
   "execution_count": null,
   "metadata": {},
   "outputs": [],
   "source": []
  },
  {
   "cell_type": "code",
   "execution_count": null,
   "metadata": {},
   "outputs": [],
   "source": []
  },
  {
   "cell_type": "code",
   "execution_count": null,
   "metadata": {},
   "outputs": [],
   "source": []
  },
  {
   "cell_type": "code",
   "execution_count": null,
   "metadata": {},
   "outputs": [],
   "source": []
  },
  {
   "cell_type": "code",
   "execution_count": 261,
   "metadata": {},
   "outputs": [
    {
     "name": "stdout",
     "output_type": "stream",
     "text": [
      "[[36.1       ]\n",
      " [-0.91762038]\n",
      " [ 5.56269974]\n",
      " [-2.46764019]]\n",
      "[[24.86188755]\n",
      " [25.45377976]\n",
      " [26.02656017]\n",
      " [28.09984499]\n",
      " [29.22204424]\n",
      " [30.17708498]\n",
      " [30.52182596]\n",
      " [33.70588722]\n",
      " [34.66092796]\n",
      " [35.95948949]\n",
      " [36.82037972]\n",
      " [38.50767038]\n",
      " [39.98107941]\n",
      " [40.43634774]\n",
      " [42.61147207]\n",
      " [44.03249969]\n",
      " [44.14798105]\n",
      " [44.5416642 ]\n",
      " [45.41124226]\n",
      " [46.82033114]]\n"
     ]
    }
   ],
   "source": [
    "# Normal equation\n",
    "\n",
    "\n",
    "true_params = np.dot(np.dot(np.linalg.pinv(np.dot(data_X_scaled.T, data_X_scaled)),data_X_scaled.T), data_Y)\n",
    "print true_params\n",
    "\n",
    "y_pred = make_prediction(true_params, data_X_scaled)\n",
    "print y_pred\n",
    "\n",
    "\n"
   ]
  },
  {
   "cell_type": "code",
   "execution_count": null,
   "metadata": {},
   "outputs": [],
   "source": []
  },
  {
   "cell_type": "code",
   "execution_count": null,
   "metadata": {},
   "outputs": [],
   "source": []
  },
  {
   "cell_type": "code",
   "execution_count": null,
   "metadata": {},
   "outputs": [],
   "source": []
  },
  {
   "cell_type": "markdown",
   "metadata": {},
   "source": [
    "X training data is 20x4\n",
    "Y is 20x1\n",
    "Y predicted has to be 20x1\n",
    "Y pred (20x1) = X training (20x4) * Params (4x1)"
   ]
  },
  {
   "cell_type": "code",
   "execution_count": 203,
   "metadata": {},
   "outputs": [],
   "source": [
    "def make_prediction(params,X):\n",
    "    y = np.dot(X, params)\n",
    "    return y"
   ]
  },
  {
   "cell_type": "code",
   "execution_count": 217,
   "metadata": {},
   "outputs": [
    {
     "name": "stdout",
     "output_type": "stream",
     "text": [
      "[[0.]\n",
      " [0.]\n",
      " [0.]\n",
      " [0.]]\n",
      "[[0.]\n",
      " [0.]\n",
      " [0.]\n",
      " [0.]\n",
      " [0.]\n",
      " [0.]\n",
      " [0.]\n",
      " [0.]\n",
      " [0.]\n",
      " [0.]\n",
      " [0.]\n",
      " [0.]\n",
      " [0.]\n",
      " [0.]\n",
      " [0.]\n",
      " [0.]\n",
      " [0.]\n",
      " [0.]\n",
      " [0.]\n",
      " [0.]]\n"
     ]
    }
   ],
   "source": [
    "params=np.zeros((4,1))\n",
    "print params\n",
    "y_pred = make_prediction(params, data_X_scaled)\n",
    "print y_pred\n"
   ]
  },
  {
   "cell_type": "code",
   "execution_count": null,
   "metadata": {},
   "outputs": [],
   "source": []
  },
  {
   "cell_type": "code",
   "execution_count": null,
   "metadata": {},
   "outputs": [],
   "source": []
  },
  {
   "cell_type": "code",
   "execution_count": null,
   "metadata": {},
   "outputs": [],
   "source": []
  },
  {
   "cell_type": "code",
   "execution_count": null,
   "metadata": {},
   "outputs": [],
   "source": []
  },
  {
   "cell_type": "code",
   "execution_count": null,
   "metadata": {},
   "outputs": [],
   "source": []
  },
  {
   "cell_type": "code",
   "execution_count": 43,
   "metadata": {},
   "outputs": [],
   "source": [
    "def compute_cost(y, y_predicted):\n",
    "    squared_differences = [data**2 for data in (y-y_predicted)]\n",
    "    cost = sum(squared_differences) / float(len(y))   \n",
    "    return cost"
   ]
  },
  {
   "cell_type": "code",
   "execution_count": 101,
   "metadata": {},
   "outputs": [
    {
     "name": "stdout",
     "output_type": "stream",
     "text": [
      "[1545614.394145 1539393.885145 1533191.376145 1527006.867145\n",
      " 1529066.370145 1524949.364145 1522893.861145 1520840.358145\n",
      " 1514691.849145 1512646.346145 1504484.334145 1512646.346145\n",
      " 1506521.837145 1508561.340145 1504484.334145 1502448.831145\n",
      " 1498383.825145 1496354.322145 1496354.322145 1490277.813145]\n",
      "[21. 24. 27. 30. 29. 31. 32. 33. 36. 37. 41. 37. 40. 39. 41. 42. 44. 45.\n",
      " 45. 48.]\n",
      "[[2149.36]\n",
      " [2051.39]\n",
      " [1995.42]\n",
      " [1971.6 ]\n",
      " [1829.66]\n",
      " [1665.69]\n",
      " [1531.69]\n",
      " [1299.9 ]\n",
      " [1135.93]\n",
      " [1050.02]\n",
      " [ 876.05]\n",
      " [ 786.17]\n",
      " [ 614.26]\n",
      " [ 518.29]\n",
      " [ 396.44]\n",
      " [ 312.53]\n",
      " [ 312.56]\n",
      " [ 270.59]\n",
      " [ 232.68]\n",
      " [ 184.8 ]]\n"
     ]
    }
   ],
   "source": [
    "y_test = make_prediction(params, data_X)\n",
    "cost = compute_cost(data_train[3].T, y_test)\n",
    "print cost\n",
    "print data_train[3].T\n",
    "print y_test"
   ]
  },
  {
   "cell_type": "code",
   "execution_count": null,
   "metadata": {},
   "outputs": [],
   "source": []
  },
  {
   "cell_type": "code",
   "execution_count": null,
   "metadata": {},
   "outputs": [],
   "source": []
  },
  {
   "cell_type": "code",
   "execution_count": null,
   "metadata": {},
   "outputs": [],
   "source": []
  },
  {
   "cell_type": "code",
   "execution_count": null,
   "metadata": {},
   "outputs": [],
   "source": []
  },
  {
   "cell_type": "code",
   "execution_count": null,
   "metadata": {},
   "outputs": [],
   "source": []
  },
  {
   "cell_type": "code",
   "execution_count": null,
   "metadata": {},
   "outputs": [],
   "source": []
  },
  {
   "cell_type": "code",
   "execution_count": 255,
   "metadata": {},
   "outputs": [],
   "source": [
    "def gradient_descent(X, y, params_current, epochs, learning_rate):\n",
    "    \n",
    "    cost_array = np.zeros((2,epochs))\n",
    "    \n",
    "    for i in range(epochs):\n",
    "        \n",
    "        y_current = make_prediction(params_current,X)\n",
    "        # print y_current\n",
    "        \n",
    "        cost = compute_cost(y, y_current)\n",
    "        # print cost\n",
    "        \n",
    "        gradients = -2/float(len(y)) * (np.dot(X.T,y - y_current))\n",
    "        params_current = params_current - (learning_rate * gradients)\n",
    "\n",
    "\n",
    "        cost_array[:,i] = [i, cost]    \n",
    "    return params_current, cost, cost_array"
   ]
  },
  {
   "cell_type": "code",
   "execution_count": 271,
   "metadata": {},
   "outputs": [
    {
     "name": "stdout",
     "output_type": "stream",
     "text": [
      "Params found:\n",
      "[[35.44144845]\n",
      " [ 2.12261737]\n",
      " [ 2.43967156]\n",
      " [-2.57627641]]\n",
      "Params true:\n",
      "[[36.1       ]\n",
      " [-0.91762038]\n",
      " [ 5.56269974]\n",
      " [-2.46764019]]\n"
     ]
    }
   ],
   "source": [
    "[params_current, cost, cost_array] = gradient_descent(data_X_scaled, data_Y, params_current=np.zeros((4,1)), epochs=2000, learning_rate=0.001)\n",
    "\n",
    "print 'Params found:'\n",
    "print params_current\n",
    "print 'Params true:'\n",
    "print true_params"
   ]
  },
  {
   "cell_type": "code",
   "execution_count": 272,
   "metadata": {},
   "outputs": [
    {
     "data": {
      "image/png": "[encoded data removed]",
      "text/plain": [
       "<Figure size 432x288 with 1 Axes>"
      ]
     },
     "metadata": {
      "needs_background": "light"
     },
     "output_type": "display_data"
    }
   ],
   "source": [
    "plt.plot(cost_array[0], cost_array[1])\n",
    "plt.ylabel('Cost')\n",
    "plt.xlabel('epochs')\n",
    "plt.title('Cost vs epochs')\n",
    "plt.show()"
   ]
  },
  {
   "cell_type": "code",
   "execution_count": null,
   "metadata": {},
   "outputs": [],
   "source": []
  },
  {
   "cell_type": "code",
   "execution_count": null,
   "metadata": {},
   "outputs": [],
   "source": []
  },
  {
   "cell_type": "code",
   "execution_count": null,
   "metadata": {},
   "outputs": [],
   "source": []
  },
  {
   "cell_type": "code",
   "execution_count": null,
   "metadata": {},
   "outputs": [],
   "source": [
    "        #gradients = -2/float(len(y)) * sum(X * (y - y_current))\n",
    "        #params_current = params_current - (learning_rate * gradients)\n"
   ]
  },
  {
   "cell_type": "code",
   "execution_count": null,
   "metadata": {},
   "outputs": [],
   "source": []
  },
  {
   "cell_type": "code",
   "execution_count": null,
   "metadata": {},
   "outputs": [],
   "source": []
  }
 ],
 "metadata": {
  "kernelspec": {
   "display_name": "Python 2",
   "language": "python",
   "name": "python2"
  },
  "language_info": {
   "codemirror_mode": {
    "name": "ipython",
    "version": 2
   },
   "file_extension": ".py",
   "mimetype": "text/x-python",
   "name": "python",
   "nbconvert_exporter": "python",
   "pygments_lexer": "ipython2",
   "version": "2.7.10"
  }
 },
 "nbformat": 4,
 "nbformat_minor": 2
}
