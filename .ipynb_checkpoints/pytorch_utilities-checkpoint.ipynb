{
 "cells": [
  {
   "cell_type": "code",
   "execution_count": 1,
   "metadata": {},
   "outputs": [],
   "source": [
    "import torch \n",
    "import numpy as np\n",
    "import torch.nn as nn\n",
    "from torch.nn import functional as F\n",
    "from torch.autograd import Variable\n",
    "import torch.autograd as autograd\n",
    "import matplotlib.pyplot as plt\n",
    "\n",
    "%matplotlib inline"
   ]
  },
  {
   "cell_type": "code",
   "execution_count": null,
   "metadata": {},
   "outputs": [],
   "source": []
  },
  {
   "cell_type": "code",
   "execution_count": 2,
   "metadata": {},
   "outputs": [
    {
     "ename": "NameError",
     "evalue": "name 'torchvision' is not defined",
     "output_type": "error",
     "traceback": [
      "\u001b[0;31m---------------------------------------------------------------------------\u001b[0m",
      "\u001b[0;31mNameError\u001b[0m                                 Traceback (most recent call last)",
      "\u001b[0;32m<ipython-input-2-96616ff4d40a>\u001b[0m in \u001b[0;36m<module>\u001b[0;34m()\u001b[0m\n\u001b[0;32m----> 1\u001b[0;31m \u001b[0mmodel\u001b[0m \u001b[0;34m=\u001b[0m \u001b[0mtorchvision\u001b[0m\u001b[0;34m.\u001b[0m\u001b[0mmodels\u001b[0m\u001b[0;34m.\u001b[0m\u001b[0mresnet18\u001b[0m\u001b[0;34m(\u001b[0m\u001b[0mpretrained\u001b[0m\u001b[0;34m=\u001b[0m\u001b[0mTrue\u001b[0m\u001b[0;34m)\u001b[0m\u001b[0;34m\u001b[0m\u001b[0m\n\u001b[0m\u001b[1;32m      2\u001b[0m \u001b[0;32mfor\u001b[0m \u001b[0mparam\u001b[0m \u001b[0;32min\u001b[0m \u001b[0mmodel\u001b[0m\u001b[0;34m.\u001b[0m\u001b[0mparameters\u001b[0m\u001b[0;34m(\u001b[0m\u001b[0;34m)\u001b[0m\u001b[0;34m:\u001b[0m\u001b[0;34m\u001b[0m\u001b[0m\n\u001b[1;32m      3\u001b[0m     \u001b[0mparam\u001b[0m\u001b[0;34m.\u001b[0m\u001b[0mrequires_grad\u001b[0m \u001b[0;34m=\u001b[0m \u001b[0mFalse\u001b[0m\u001b[0;34m\u001b[0m\u001b[0m\n\u001b[1;32m      4\u001b[0m \u001b[0;31m# Replace the last fully-connected layer\u001b[0m\u001b[0;34m\u001b[0m\u001b[0;34m\u001b[0m\u001b[0m\n\u001b[1;32m      5\u001b[0m \u001b[0;31m# Parameters of newly constructed modules have requires_grad=True by default\u001b[0m\u001b[0;34m\u001b[0m\u001b[0;34m\u001b[0m\u001b[0m\n",
      "\u001b[0;31mNameError\u001b[0m: name 'torchvision' is not defined"
     ]
    }
   ],
   "source": [
    "model = torchvision.models.resnet18(pretrained=True)\n",
    "for param in model.parameters():\n",
    "    param.requires_grad = False\n",
    "# Replace the last fully-connected layer\n",
    "# Parameters of newly constructed modules have requires_grad=True by default\n",
    "model.fc = nn.Linear(512, 100)\n",
    "\n",
    "# Optimize only the classifier\n",
    "optimizer = optim.SGD(model.fc.parameters(), lr=1e-2, momentum=0.9)"
   ]
  },
  {
   "cell_type": "code",
   "execution_count": null,
   "metadata": {},
   "outputs": [],
   "source": []
  },
  {
   "cell_type": "code",
   "execution_count": null,
   "metadata": {},
   "outputs": [],
   "source": []
  },
  {
   "cell_type": "code",
   "execution_count": 3,
   "metadata": {},
   "outputs": [
    {
     "name": "stdout",
     "output_type": "stream",
     "text": [
      "True\n",
      "6\n",
      "tensor([2, 1, 4, 5, 6])\n",
      "tensor([[ 1.0830,  0.2487,  1.4128],\n",
      "        [ 0.4674, -0.5867, -0.1235],\n",
      "        [ 1.0830,  0.2487,  1.4128],\n",
      "        [ 0.4674, -0.5867, -0.1235]])\n",
      "tensor([[ 1.0830,  0.2487,  1.4128,  1.0830,  0.2487,  1.4128],\n",
      "        [ 0.4674, -0.5867, -0.1235,  0.4674, -0.5867, -0.1235]])\n"
     ]
    }
   ],
   "source": [
    "# basic torch operations\n",
    "\n",
    "a1 = torch.randn(2,3)\n",
    "print torch.is_tensor(a1)\n",
    "print torch.numel(a1)\n",
    "\n",
    "a2 = np.array([2,1,4,5,6])\n",
    "a3 = torch.from_numpy(a2)\n",
    "print a3\n",
    "\n",
    "a4 = torch.cat((a1, a1),dim=0)\n",
    "print a4\n",
    "\n",
    "a5 = torch.cat((a1, a1),dim=1)\n",
    "print a5\n",
    "\n",
    "\n"
   ]
  },
  {
   "cell_type": "code",
   "execution_count": 4,
   "metadata": {},
   "outputs": [
    {
     "name": "stdout",
     "output_type": "stream",
     "text": [
      "tensor([[ 1.0830,  0.4674],\n",
      "        [ 0.2487, -0.5867],\n",
      "        [ 1.4128, -0.1235]])\n"
     ]
    }
   ],
   "source": [
    "a6 = torch.t(a1)\n",
    "print a6\n",
    "\n",
    "\n",
    "\n",
    "\n"
   ]
  },
  {
   "cell_type": "code",
   "execution_count": 5,
   "metadata": {},
   "outputs": [
    {
     "name": "stdout",
     "output_type": "stream",
     "text": [
      "tensor([[2.9535, 1.5958],\n",
      "        [1.2824, 0.5562],\n",
      "        [4.1075, 0.8838]])\n",
      "tensor([[0.7471, 0.6148],\n",
      "        [0.5619, 0.3574],\n",
      "        [0.8042, 0.4692]])\n"
     ]
    }
   ],
   "source": [
    "a7 = torch.exp(a6)\n",
    "print a7\n",
    "\n",
    "a8 = torch.sigmoid(a6)\n",
    "print a8"
   ]
  },
  {
   "cell_type": "code",
   "execution_count": null,
   "metadata": {},
   "outputs": [],
   "source": []
  },
  {
   "cell_type": "code",
   "execution_count": 6,
   "metadata": {},
   "outputs": [],
   "source": [
    "import torch.nn as nn\n",
    "import torch.nn.functional as F\n",
    "\n",
    "class Model(nn.Module): \n",
    "    def __init__(self):\n",
    "        super(Model, self).__init__()\n",
    "        self.conv1 = nn.Conv2d(1, 4, 3)\n",
    "        self.conv2 = nn.Conv2d(4, 8, 3)\n",
    "        \n",
    "    def forward(self, x):\n",
    "        x = F.relu(self.conv1(x)) \n",
    "        return F.relu(self.conv2(x))"
   ]
  },
  {
   "cell_type": "code",
   "execution_count": 7,
   "metadata": {},
   "outputs": [
    {
     "name": "stdout",
     "output_type": "stream",
     "text": [
      "(<class 'torch.Tensor'>, torch.Size([4, 1, 3, 3]))\n",
      "(<class 'torch.Tensor'>, torch.Size([4]))\n",
      "(<class 'torch.Tensor'>, torch.Size([8, 4, 3, 3]))\n",
      "(<class 'torch.Tensor'>, torch.Size([8]))\n",
      "torch.Size([1, 8, 21, 21])\n"
     ]
    },
    {
     "data": {
      "text/plain": [
       "<matplotlib.image.AxesImage at 0x12062ba50>"
      ]
     },
     "execution_count": 7,
     "metadata": {},
     "output_type": "execute_result"
    },
    {
     "data": {
      "image/png": "[encoded data removed]",
      "text/plain": [
       "<Figure size 432x288 with 1 Axes>"
      ]
     },
     "metadata": {
      "needs_background": "light"
     },
     "output_type": "display_data"
    }
   ],
   "source": [
    "model = Model()\n",
    "\n",
    "for param in model.parameters():\n",
    "    print(type(param.data), param.size())\n",
    "    \n",
    "input = autograd.Variable(torch.randn(1, 1, 25, 25))\n",
    "\n",
    "output = model.forward(input)\n",
    "print output.shape\n",
    "\n",
    "output_1 = output[0][1][:][:]\n",
    "output_1 = output_1.detach().numpy()\n",
    "\n",
    "\n",
    "plt.imshow(output_1)\n",
    "\n",
    "    \n",
    "    \n",
    "    \n",
    "    "
   ]
  },
  {
   "cell_type": "code",
   "execution_count": null,
   "metadata": {},
   "outputs": [],
   "source": []
  },
  {
   "cell_type": "code",
   "execution_count": 8,
   "metadata": {},
   "outputs": [],
   "source": [
    "import torch.nn as nn\n",
    "import torch.nn.functional as F\n",
    "\n",
    "class Model2(nn.Module): \n",
    "    def __init__(self):\n",
    "        super(Model2, self).__init__()\n",
    "        self.edge_filter = torch.Tensor([[[[1, 0, 0]], [[0, 1, 0]], [[0, 0, 1]]]])\n",
    "        self.conv1 = nn.Conv2d(1, 1, 3)\n",
    "        \n",
    "    def forward(self, x):\n",
    "        x = F.relu(self.conv1(x)) \n",
    "        x = F.conv2d(x, self.edge_filter)\n",
    "        return F.relu(x)"
   ]
  },
  {
   "cell_type": "code",
   "execution_count": 9,
   "metadata": {},
   "outputs": [
    {
     "name": "stdout",
     "output_type": "stream",
     "text": [
      "(<class 'torch.Tensor'>, torch.Size([1, 1, 3, 3]))\n",
      "(<class 'torch.Tensor'>, torch.Size([1]))\n"
     ]
    },
    {
     "ename": "RuntimeError",
     "evalue": "Given groups=1, weight of size 1 3 1 3, expected input[1, 1, 23, 23] to have 3 channels, but got 1 channels instead",
     "output_type": "error",
     "traceback": [
      "\u001b[0;31m---------------------------------------------------------------------------\u001b[0m",
      "\u001b[0;31mRuntimeError\u001b[0m                              Traceback (most recent call last)",
      "\u001b[0;32m<ipython-input-9-dda27d3b68b4>\u001b[0m in \u001b[0;36m<module>\u001b[0;34m()\u001b[0m\n\u001b[1;32m      6\u001b[0m \u001b[0minput\u001b[0m \u001b[0;34m=\u001b[0m \u001b[0mautograd\u001b[0m\u001b[0;34m.\u001b[0m\u001b[0mVariable\u001b[0m\u001b[0;34m(\u001b[0m\u001b[0mtorch\u001b[0m\u001b[0;34m.\u001b[0m\u001b[0mrandn\u001b[0m\u001b[0;34m(\u001b[0m\u001b[0;36m1\u001b[0m\u001b[0;34m,\u001b[0m \u001b[0;36m1\u001b[0m\u001b[0;34m,\u001b[0m \u001b[0;36m25\u001b[0m\u001b[0;34m,\u001b[0m \u001b[0;36m25\u001b[0m\u001b[0;34m)\u001b[0m\u001b[0;34m)\u001b[0m\u001b[0;34m\u001b[0m\u001b[0m\n\u001b[1;32m      7\u001b[0m \u001b[0;34m\u001b[0m\u001b[0m\n\u001b[0;32m----> 8\u001b[0;31m \u001b[0moutput\u001b[0m \u001b[0;34m=\u001b[0m \u001b[0mmodel\u001b[0m\u001b[0;34m.\u001b[0m\u001b[0mforward\u001b[0m\u001b[0;34m(\u001b[0m\u001b[0minput\u001b[0m\u001b[0;34m)\u001b[0m\u001b[0;34m\u001b[0m\u001b[0m\n\u001b[0m\u001b[1;32m      9\u001b[0m \u001b[0;32mprint\u001b[0m \u001b[0moutput\u001b[0m\u001b[0;34m.\u001b[0m\u001b[0mshape\u001b[0m\u001b[0;34m\u001b[0m\u001b[0m\n\u001b[1;32m     10\u001b[0m \u001b[0;34m\u001b[0m\u001b[0m\n",
      "\u001b[0;32m<ipython-input-8-67d81479002d>\u001b[0m in \u001b[0;36mforward\u001b[0;34m(self, x)\u001b[0m\n\u001b[1;32m     10\u001b[0m     \u001b[0;32mdef\u001b[0m \u001b[0mforward\u001b[0m\u001b[0;34m(\u001b[0m\u001b[0mself\u001b[0m\u001b[0;34m,\u001b[0m \u001b[0mx\u001b[0m\u001b[0;34m)\u001b[0m\u001b[0;34m:\u001b[0m\u001b[0;34m\u001b[0m\u001b[0m\n\u001b[1;32m     11\u001b[0m         \u001b[0mx\u001b[0m \u001b[0;34m=\u001b[0m \u001b[0mF\u001b[0m\u001b[0;34m.\u001b[0m\u001b[0mrelu\u001b[0m\u001b[0;34m(\u001b[0m\u001b[0mself\u001b[0m\u001b[0;34m.\u001b[0m\u001b[0mconv1\u001b[0m\u001b[0;34m(\u001b[0m\u001b[0mx\u001b[0m\u001b[0;34m)\u001b[0m\u001b[0;34m)\u001b[0m\u001b[0;34m\u001b[0m\u001b[0m\n\u001b[0;32m---> 12\u001b[0;31m         \u001b[0mx\u001b[0m \u001b[0;34m=\u001b[0m \u001b[0mF\u001b[0m\u001b[0;34m.\u001b[0m\u001b[0mconv2d\u001b[0m\u001b[0;34m(\u001b[0m\u001b[0mx\u001b[0m\u001b[0;34m,\u001b[0m \u001b[0mself\u001b[0m\u001b[0;34m.\u001b[0m\u001b[0medge_filter\u001b[0m\u001b[0;34m)\u001b[0m\u001b[0;34m\u001b[0m\u001b[0m\n\u001b[0m\u001b[1;32m     13\u001b[0m         \u001b[0;32mreturn\u001b[0m \u001b[0mF\u001b[0m\u001b[0;34m.\u001b[0m\u001b[0mrelu\u001b[0m\u001b[0;34m(\u001b[0m\u001b[0mx\u001b[0m\u001b[0;34m)\u001b[0m\u001b[0;34m\u001b[0m\u001b[0m\n",
      "\u001b[0;31mRuntimeError\u001b[0m: Given groups=1, weight of size 1 3 1 3, expected input[1, 1, 23, 23] to have 3 channels, but got 1 channels instead"
     ]
    }
   ],
   "source": [
    "model = Model2()\n",
    "\n",
    "for param in model.parameters():\n",
    "    print(type(param.data), param.size())\n",
    "    \n",
    "input = autograd.Variable(torch.randn(1, 1, 25, 25))\n",
    "\n",
    "output = model.forward(input)\n",
    "print output.shape\n",
    "\n",
    "output_1 = output[0][1][:][:]\n",
    "output_1 = output_1.detach().numpy()\n",
    "\n",
    "\n",
    "plt.imshow(output_1)\n"
   ]
  },
  {
   "cell_type": "code",
   "execution_count": null,
   "metadata": {},
   "outputs": [],
   "source": []
  },
  {
   "cell_type": "code",
   "execution_count": null,
   "metadata": {},
   "outputs": [],
   "source": []
  },
  {
   "cell_type": "code",
   "execution_count": null,
   "metadata": {},
   "outputs": [],
   "source": []
  },
  {
   "cell_type": "code",
   "execution_count": null,
   "metadata": {},
   "outputs": [],
   "source": []
  },
  {
   "cell_type": "code",
   "execution_count": 10,
   "metadata": {},
   "outputs": [
    {
     "ename": "NameError",
     "evalue": "name 'train' is not defined",
     "output_type": "error",
     "traceback": [
      "\u001b[0;31m---------------------------------------------------------------------------\u001b[0m",
      "\u001b[0;31mNameError\u001b[0m                                 Traceback (most recent call last)",
      "\u001b[0;32m<ipython-input-10-c860a1e1a4f1>\u001b[0m in \u001b[0;36m<module>\u001b[0;34m()\u001b[0m\n\u001b[0;32m----> 1\u001b[0;31m \u001b[0mtrain\u001b[0m\u001b[0;34m(\u001b[0m\u001b[0mmode\u001b[0m\u001b[0;34m=\u001b[0m\u001b[0mTrue\u001b[0m\u001b[0;34m)\u001b[0m\u001b[0;34m\u001b[0m\u001b[0m\n\u001b[0m\u001b[1;32m      2\u001b[0m \u001b[0;31m# Sets the module in training mode.\u001b[0m\u001b[0;34m\u001b[0m\u001b[0;34m\u001b[0m\u001b[0m\n\u001b[1;32m      3\u001b[0m \u001b[0;31m# This has any effect only on modules such as Dropout or BatchNorm.\u001b[0m\u001b[0;34m\u001b[0m\u001b[0;34m\u001b[0m\u001b[0m\n\u001b[1;32m      4\u001b[0m \u001b[0mzero_grad\u001b[0m\u001b[0;34m(\u001b[0m\u001b[0;34m)\u001b[0m\u001b[0;34m\u001b[0m\u001b[0m\n\u001b[1;32m      5\u001b[0m \u001b[0;31m# Sets gradients of all model parameters to zero.\u001b[0m\u001b[0;34m\u001b[0m\u001b[0;34m\u001b[0m\u001b[0m\n",
      "\u001b[0;31mNameError\u001b[0m: name 'train' is not defined"
     ]
    }
   ],
   "source": [
    "train(mode=True)\n",
    "# Sets the module in training mode.\n",
    "# This has any effect only on modules such as Dropout or BatchNorm.\n",
    "zero_grad()\n",
    "# Sets gradients of all model parameters to zero."
   ]
  },
  {
   "cell_type": "code",
   "execution_count": null,
   "metadata": {},
   "outputs": [],
   "source": []
  },
  {
   "cell_type": "code",
   "execution_count": 18,
   "metadata": {},
   "outputs": [
    {
     "ename": "NameError",
     "evalue": "name 'OrderedDict' is not defined",
     "output_type": "error",
     "traceback": [
      "\u001b[0;31m---------------------------------------------------------------------------\u001b[0m",
      "\u001b[0;31mNameError\u001b[0m                                 Traceback (most recent call last)",
      "\u001b[0;32m<ipython-input-18-c1bee331285c>\u001b[0m in \u001b[0;36m<module>\u001b[0;34m()\u001b[0m\n\u001b[1;32m      7\u001b[0m )\n\u001b[1;32m      8\u001b[0m \u001b[0;31m# Example of using Sequential with OrderedDict\u001b[0m\u001b[0;34m\u001b[0m\u001b[0;34m\u001b[0m\u001b[0m\n\u001b[0;32m----> 9\u001b[0;31m model = nn.Sequential(OrderedDict([\n\u001b[0m\u001b[1;32m     10\u001b[0m           \u001b[0;34m(\u001b[0m\u001b[0;34m'conv1'\u001b[0m\u001b[0;34m,\u001b[0m \u001b[0mnn\u001b[0m\u001b[0;34m.\u001b[0m\u001b[0mConv2d\u001b[0m\u001b[0;34m(\u001b[0m\u001b[0;36m1\u001b[0m\u001b[0;34m,\u001b[0m\u001b[0;36m20\u001b[0m\u001b[0;34m,\u001b[0m\u001b[0;36m5\u001b[0m\u001b[0;34m)\u001b[0m\u001b[0;34m)\u001b[0m\u001b[0;34m,\u001b[0m\u001b[0;34m\u001b[0m\u001b[0m\n\u001b[1;32m     11\u001b[0m           \u001b[0;34m(\u001b[0m\u001b[0;34m'relu1'\u001b[0m\u001b[0;34m,\u001b[0m \u001b[0mnn\u001b[0m\u001b[0;34m.\u001b[0m\u001b[0mReLU\u001b[0m\u001b[0;34m(\u001b[0m\u001b[0;34m)\u001b[0m\u001b[0;34m)\u001b[0m\u001b[0;34m,\u001b[0m\u001b[0;34m\u001b[0m\u001b[0m\n",
      "\u001b[0;31mNameError\u001b[0m: name 'OrderedDict' is not defined"
     ]
    }
   ],
   "source": [
    "# Example of using Sequential\n",
    "model = nn.Sequential(\n",
    "          nn.Conv2d(1,20,5),\n",
    "          nn.ReLU(),\n",
    "          nn.Conv2d(20,64,5),\n",
    "          nn.ReLU()\n",
    ")\n",
    "# Example of using Sequential with OrderedDict\n",
    "model = nn.Sequential(OrderedDict([\n",
    "          ('conv1', nn.Conv2d(1,20,5)),\n",
    "          ('relu1', nn.ReLU()),\n",
    "          ('conv2', nn.Conv2d(20,64,5)),\n",
    "          ('relu2', nn.ReLU())]))"
   ]
  },
  {
   "cell_type": "code",
   "execution_count": null,
   "metadata": {},
   "outputs": [],
   "source": []
  },
  {
   "cell_type": "code",
   "execution_count": null,
   "metadata": {},
   "outputs": [],
   "source": []
  },
  {
   "cell_type": "code",
   "execution_count": 29,
   "metadata": {},
   "outputs": [
    {
     "name": "stdout",
     "output_type": "stream",
     "text": [
      "('input', torch.Size([20, 5, 50]))\n",
      "('output', torch.Size([20, 10, 24]))\n"
     ]
    }
   ],
   "source": [
    "# input tensor of batch size 20, 5 channels and size 50\n",
    "input = autograd.Variable(torch.randn(20, 5, 50))\n",
    "print('input',input.shape)\n",
    "\n",
    "# we define a 1D conv layer\n",
    "# The conv. will only apply on the size=50 of the input tensor\n",
    "# No padding and stride of 2 means that the dim=50 of the input will be reduced to (50-2)/2 = 24\n",
    "m = nn.Conv1d(5, 10, 3, stride=2)\n",
    "\n",
    "\n",
    "# Applying the conv layer to the input\n",
    "# Batch size = 20 is not affected\n",
    "# For the channel dim, 5 becomes 10 (conv from 5 to 10 channels)\n",
    "# We have 10 convolutions of size=3 here\n",
    "output = m(input)\n",
    "print('output',output.shape)"
   ]
  },
  {
   "cell_type": "code",
   "execution_count": null,
   "metadata": {},
   "outputs": [],
   "source": []
  },
  {
   "cell_type": "code",
   "execution_count": 36,
   "metadata": {},
   "outputs": [
    {
     "name": "stdout",
     "output_type": "stream",
     "text": [
      "('output kernel 3x3 stride 2', torch.Size([5, 16, 24, 24]))\n",
      "('output kernel 3x5 stride 2x1 padding 4x2', torch.Size([5, 16, 28, 50]))\n",
      "('output kernel 3x5 stride 2x1 padding 4x2 dilation 3x1', torch.Size([5, 16, 26, 50]))\n"
     ]
    }
   ],
   "source": [
    "# Input with 5 samples, 8 channels, each samples is 50x50\n",
    "input = autograd.Variable(torch.randn(5, 8, 50, 50))\n",
    "\n",
    "# With square kernels and equal stride\n",
    "# Kernel 3x3 and stride 2\n",
    "# Output will have 16 channels, and size of samples will be (50-2)/2 x (50-2)/2 = 24x24\n",
    "m = nn.Conv2d(8, 16, 3, stride=2)\n",
    "output = m(input)\n",
    "print('output kernel 3x3 stride 2',output.shape)\n",
    "\n",
    "# non-square kernels and unequal stride and with padding\n",
    "# In the first dim: conv size 3, stride 2 and padding 4\n",
    "# Size of first dim: (50+8-2)/2 = 28 (3x3 kernels remove 2 units, padding of 4 adds 4 units at each dim)\n",
    "# Size of last dim does not change because 5x5 kernel and padding of 2 (no loss) and stride of 1\n",
    "m = nn.Conv2d(8, 16, (3, 5), stride=(2, 1), padding=(4, 2))\n",
    "output = m(input)\n",
    "print('output kernel 3x5 stride 2x1 padding 4x2',output.shape)\n",
    "\n",
    "# non-square kernels and unequal stride and with padding and dilation\n",
    "# Last dim size is not affected\n",
    "# First dim: padding of 4 adds 8 units -> 58, conv of 3x3 with dilation of 3 has a receptive field of 15x15\n",
    "# meaning 7 units at each side -> 58-14= 44\n",
    "m = nn.Conv2d(8, 16, (3, 5), stride=(2, 1), padding=(4, 2), dilation=(3, 1))\n",
    "output = m(input)\n",
    "print('output kernel 3x5 stride 2x1 padding 4x2 dilation 3x1',output.shape)"
   ]
  },
  {
   "cell_type": "code",
   "execution_count": null,
   "metadata": {},
   "outputs": [],
   "source": []
  },
  {
   "cell_type": "code",
   "execution_count": 40,
   "metadata": {},
   "outputs": [
    {
     "name": "stdout",
     "output_type": "stream",
     "text": [
      "('output kernel 3x3, stride 2', torch.Size([20, 16, 24, 24, 24]))\n",
      "('output kernel 3x5x2, stride 2x1x1 padding 4x2x0', torch.Size([20, 16, 28, 50, 49]))\n"
     ]
    }
   ],
   "source": [
    "input = autograd.Variable(torch.randn(20, 8, 50, 50, 50))\n",
    "\n",
    "\n",
    "# With square kernels and equal stride\n",
    "# 2 units lost at each dim: (50-2)/2 = 24 \n",
    "m = nn.Conv3d(8, 16, 3, stride=2)\n",
    "output = m(input)\n",
    "print('output kernel 3x3, stride 2', output.shape)\n",
    "\n",
    "# non-square kernels and unequal stride and with padding\n",
    "# Dim 1: (50+8-2)/2 = 28\n",
    "# Dim 2: (50+4-4) = 50\n",
    "# Dim 3: (50-1) = 49\n",
    "m = nn.Conv3d(8, 16, (3, 5, 2), stride=(2, 1, 1), padding=(4, 2, 0))\n",
    "output = m(input)\n",
    "print('output kernel 3x5x2, stride 2x1x1 padding 4x2x0', output.shape)"
   ]
  },
  {
   "cell_type": "code",
   "execution_count": null,
   "metadata": {},
   "outputs": [],
   "source": []
  },
  {
   "cell_type": "code",
   "execution_count": 41,
   "metadata": {},
   "outputs": [
    {
     "name": "stdout",
     "output_type": "stream",
     "text": [
      "('output', torch.Size([20, 10, 24]))\n"
     ]
    }
   ],
   "source": [
    "input = autograd.Variable(torch.randn(20, 10, 50))\n",
    "\n",
    "# pool of size=3, stride=2\n",
    "# Dim: (50-2)/2\n",
    "m = nn.MaxPool1d(3, stride=2)\n",
    "\n",
    "output = m(input)\n",
    "print('output', output.shape)\n"
   ]
  },
  {
   "cell_type": "code",
   "execution_count": 44,
   "metadata": {},
   "outputs": [
    {
     "name": "stdout",
     "output_type": "stream",
     "text": [
      "('output', torch.Size([20, 10, 25, 25]))\n"
     ]
    }
   ],
   "source": [
    "input = autograd.Variable(torch.randn(20, 10, 50, 50))\n",
    "\n",
    "# pool of square window of size=2, stride=2\n",
    "m = nn.MaxPool2d(2, stride=2)\n",
    "output = m(input)\n",
    "print('output', output.shape)"
   ]
  },
  {
   "cell_type": "code",
   "execution_count": 45,
   "metadata": {},
   "outputs": [
    {
     "name": "stdout",
     "output_type": "stream",
     "text": [
      "('output', torch.Size([20, 10, 25, 25, 25]))\n"
     ]
    }
   ],
   "source": [
    "input = autograd.Variable(torch.randn(20, 10, 50, 50, 50))\n",
    "m = nn.MaxPool3d(2, stride=2)\n",
    "output = m(input)\n",
    "print('output', output.shape)"
   ]
  },
  {
   "cell_type": "code",
   "execution_count": null,
   "metadata": {},
   "outputs": [],
   "source": []
  },
  {
   "cell_type": "code",
   "execution_count": 52,
   "metadata": {},
   "outputs": [
    {
     "name": "stdout",
     "output_type": "stream",
     "text": [
      "('input', tensor([[[1., 2., 3., 4., 5., 6., 7., 8.]]]))\n",
      "('output after pooling', tensor([[[2., 4., 6., 8.]]]))\n",
      "('output after unpooling', tensor([[[0., 2., 0., 4., 0., 6., 0., 8.]]]))\n",
      "('output after unpooling', tensor([[[0., 2., 0., 4., 0., 6., 0., 8.]]]))\n"
     ]
    }
   ],
   "source": [
    "input = Variable(torch.Tensor([[[1, 2, 3, 4, 5, 6, 7, 8]]])) \n",
    "\n",
    "pool = nn.MaxPool1d(2, stride=2, return_indices=True)\n",
    "output, indices = pool(input)\n",
    "print('input',input)\n",
    "print('output after pooling',output)\n",
    "\n",
    "unpool = nn.MaxUnpool1d(2, stride=2)\n",
    "print('output after unpooling',unpool(output, indices))\n",
    "\n",
    "# Example showcasing the use of output_size\n",
    "input = Variable(torch.Tensor([[[1, 2, 3, 4, 5, 6, 7, 8, 9]]]))\n",
    "output, indices = pool(input)\n",
    "unpool(output, indices, output_size=input.size())\n",
    "unpool(output, indices)\n",
    "print('output after unpooling',unpool(output, indices))"
   ]
  },
  {
   "cell_type": "code",
   "execution_count": null,
   "metadata": {},
   "outputs": [],
   "source": []
  },
  {
   "cell_type": "code",
   "execution_count": 59,
   "metadata": {},
   "outputs": [
    {
     "name": "stdout",
     "output_type": "stream",
     "text": [
      "('input', tensor([[[[ 1.,  2.,  3.,  4.],\n",
      "          [ 5.,  6.,  7.,  8.],\n",
      "          [ 9., 10., 11., 12.],\n",
      "          [13., 14., 15., 16.]]]]))\n",
      "('output after pooling', tensor([[[[ 6.,  8.],\n",
      "          [14., 16.]]]]))\n",
      "('output indices after pooling', tensor([[[[ 5,  7],\n",
      "          [13, 15]]]]))\n",
      "('output after unpooling', tensor([[[[ 0.,  0.,  0.,  0.],\n",
      "          [ 0.,  6.,  0.,  8.],\n",
      "          [ 0.,  0.,  0.,  0.],\n",
      "          [ 0., 14.,  0., 16.]]]]))\n",
      "('output after unpooling and using different size', tensor([[[[ 0.,  0.,  0.,  0.,  0.],\n",
      "          [ 6.,  0.,  8.,  0.,  0.],\n",
      "          [ 0.,  0.,  0., 14.,  0.],\n",
      "          [16.,  0.,  0.,  0.,  0.],\n",
      "          [ 0.,  0.,  0.,  0.,  0.]]]]))\n"
     ]
    }
   ],
   "source": [
    "input = Variable(torch.Tensor([[[[ 1, 2, 3, 4],[5, 6, 7, 8],[ 9, 10, 11, 12],[13, 14, 15, 16]]]])) \n",
    "print('input',input)\n",
    "\n",
    "pool = nn.MaxPool2d(2, stride=2, return_indices=True)\n",
    "\n",
    "output, indices = pool(input)\n",
    "print('output after pooling',output)\n",
    "print('output indices after pooling',indices)\n",
    "\n",
    "\n",
    "unpool = nn.MaxUnpool2d(2, stride=2)\n",
    "print('output after unpooling',unpool(output, indices))\n",
    "# specify a different output size than input size\n",
    "print('output after unpooling and using different size',unpool(output, indices,output_size=torch.Size([1, 1, 5, 5])))"
   ]
  },
  {
   "cell_type": "code",
   "execution_count": null,
   "metadata": {},
   "outputs": [],
   "source": []
  },
  {
   "cell_type": "code",
   "execution_count": null,
   "metadata": {},
   "outputs": [],
   "source": []
  },
  {
   "cell_type": "code",
   "execution_count": 61,
   "metadata": {},
   "outputs": [
    {
     "name": "stdout",
     "output_type": "stream",
     "text": [
      "('output', tensor([[[2., 4., 6.]]]))\n"
     ]
    }
   ],
   "source": [
    "# pool with window of size=3, stride=2\n",
    "m = nn.AvgPool1d(3, stride=2)\n",
    "output = m(Variable(torch.Tensor([[[1,2,3,4,5,6,7]]])))\n",
    "print('output',output)"
   ]
  },
  {
   "cell_type": "code",
   "execution_count": null,
   "metadata": {},
   "outputs": [],
   "source": []
  },
  {
   "cell_type": "code",
   "execution_count": 62,
   "metadata": {},
   "outputs": [],
   "source": [
    "# pool of square window of size=3, stride=2\n",
    "m = nn.AvgPool2d(2, stride=2)\n",
    "# pool of non-square window\n",
    "m = nn.AvgPool2d((3, 2), stride=(2, 1))\n",
    "input = autograd.Variable(torch.randn(20, 16, 50, 32))\n",
    "output = m(input)"
   ]
  },
  {
   "cell_type": "code",
   "execution_count": null,
   "metadata": {},
   "outputs": [],
   "source": []
  },
  {
   "cell_type": "code",
   "execution_count": 63,
   "metadata": {},
   "outputs": [
    {
     "name": "stdout",
     "output_type": "stream",
     "text": [
      "tensor([-1.5448, -1.7074])\n",
      "tensor([0., 0.])\n"
     ]
    }
   ],
   "source": [
    "m = nn.ReLU()\n",
    "input = autograd.Variable(torch.randn(2))\n",
    "print(input)\n",
    "print(m(input))"
   ]
  },
  {
   "cell_type": "code",
   "execution_count": 64,
   "metadata": {},
   "outputs": [
    {
     "name": "stdout",
     "output_type": "stream",
     "text": [
      "tensor([-1.5264, -0.3062])\n",
      "tensor([-0.7827, -0.2638])\n"
     ]
    }
   ],
   "source": [
    "m = nn.ELU()\n",
    "input = autograd.Variable(torch.randn(2))\n",
    "print(input)\n",
    "print(m(input))"
   ]
  },
  {
   "cell_type": "code",
   "execution_count": 65,
   "metadata": {},
   "outputs": [
    {
     "name": "stdout",
     "output_type": "stream",
     "text": [
      "tensor([-0.2628,  0.0050])\n",
      "tensor([-0.0263,  0.0050])\n"
     ]
    }
   ],
   "source": [
    "m = nn.LeakyReLU(0.1)\n",
    "input = autograd.Variable(torch.randn(2))\n",
    "print(input)\n",
    "print(m(input))"
   ]
  },
  {
   "cell_type": "code",
   "execution_count": 66,
   "metadata": {},
   "outputs": [
    {
     "name": "stdout",
     "output_type": "stream",
     "text": [
      "tensor([-0.3604,  0.7503])\n",
      "tensor([20.0000,  0.7503])\n"
     ]
    }
   ],
   "source": [
    "m = nn.Threshold(0.1, 20)\n",
    "input = Variable(torch.randn(2))\n",
    "print(input)\n",
    "print(m(input))"
   ]
  },
  {
   "cell_type": "code",
   "execution_count": 67,
   "metadata": {},
   "outputs": [
    {
     "name": "stdout",
     "output_type": "stream",
     "text": [
      "tensor([-0.6787,  0.6794])\n",
      "tensor([0.3366, 0.6636])\n"
     ]
    }
   ],
   "source": [
    "m = nn.Sigmoid()\n",
    "input = autograd.Variable(torch.randn(2))\n",
    "print(input)\n",
    "print(m(input))"
   ]
  },
  {
   "cell_type": "code",
   "execution_count": 68,
   "metadata": {},
   "outputs": [
    {
     "name": "stdout",
     "output_type": "stream",
     "text": [
      "tensor([ 0.9312, -0.5294])\n",
      "tensor([ 0.7312, -0.4849])\n"
     ]
    }
   ],
   "source": [
    "m = nn.Tanh()\n",
    "input = autograd.Variable(torch.randn(2))\n",
    "print(input)\n",
    "print(m(input))"
   ]
  },
  {
   "cell_type": "code",
   "execution_count": 70,
   "metadata": {},
   "outputs": [
    {
     "name": "stdout",
     "output_type": "stream",
     "text": [
      "tensor([[ 0.8449, -0.0434,  0.5097],\n",
      "        [-0.7713, -1.1344, -0.6316]])\n",
      "tensor([[0.4703, 0.1934, 0.3363],\n",
      "        [0.3514, 0.2444, 0.4041]])\n"
     ]
    },
    {
     "name": "stderr",
     "output_type": "stream",
     "text": [
      "/Users/rudinakaprata/Documents/Aldo/ML_Stanford/venv_ML/lib/python2.7/site-packages/ipykernel_launcher.py:4: UserWarning: Implicit dimension choice for softmax has been deprecated. Change the call to include dim=X as an argument.\n",
      "  after removing the cwd from sys.path.\n"
     ]
    }
   ],
   "source": [
    "m = nn.Softmax()\n",
    "input = autograd.Variable(torch.randn(2, 3))\n",
    "print(input)\n",
    "print(m(input))"
   ]
  },
  {
   "cell_type": "code",
   "execution_count": 71,
   "metadata": {},
   "outputs": [],
   "source": [
    "# With Learnable Parameters\n",
    "m = nn.BatchNorm1d(100)\n",
    "# Without Learnable Parameters\n",
    "m = nn.BatchNorm1d(100, affine=False)\n",
    "input = autograd.Variable(torch.randn(20, 100))\n",
    "output = m(input)"
   ]
  },
  {
   "cell_type": "code",
   "execution_count": 72,
   "metadata": {},
   "outputs": [],
   "source": [
    "# With Learnable Parameters\n",
    "m = nn.BatchNorm2d(100)\n",
    "# Without Learnable Parameters\n",
    "m = nn.BatchNorm2d(100, affine=False)\n",
    "input = autograd.Variable(torch.randn(20, 100, 35, 45))\n",
    "output = m(input)"
   ]
  },
  {
   "cell_type": "code",
   "execution_count": null,
   "metadata": {},
   "outputs": [],
   "source": []
  },
  {
   "cell_type": "code",
   "execution_count": 73,
   "metadata": {},
   "outputs": [],
   "source": [
    "rnn = nn.RNN(10, 20, 2)\n",
    "input = Variable(torch.randn(5, 3, 10))\n",
    "h0 = Variable(torch.randn(2, 3, 20))\n",
    "output, hn = rnn(input, h0)"
   ]
  },
  {
   "cell_type": "code",
   "execution_count": 74,
   "metadata": {},
   "outputs": [],
   "source": [
    "rnn = nn.LSTM(10, 20, 2)\n",
    "input = Variable(torch.randn(5, 3, 10))\n",
    "h0 = Variable(torch.randn(2, 3, 20))\n",
    "c0 = Variable(torch.randn(2, 3, 20))\n",
    "output, hn = rnn(input, (h0, c0))"
   ]
  },
  {
   "cell_type": "code",
   "execution_count": null,
   "metadata": {},
   "outputs": [],
   "source": []
  },
  {
   "cell_type": "code",
   "execution_count": 75,
   "metadata": {},
   "outputs": [
    {
     "name": "stdout",
     "output_type": "stream",
     "text": [
      "torch.Size([128, 30])\n"
     ]
    }
   ],
   "source": [
    "m = nn.Linear(20, 30)\n",
    "input = autograd.Variable(torch.randn(128, 20))\n",
    "output = m(input)\n",
    "print(output.size())"
   ]
  },
  {
   "cell_type": "code",
   "execution_count": null,
   "metadata": {},
   "outputs": [],
   "source": []
  },
  {
   "cell_type": "code",
   "execution_count": 76,
   "metadata": {},
   "outputs": [],
   "source": [
    "m = nn.Dropout(p=0.2)\n",
    "input = autograd.Variable(torch.randn(20, 16))\n",
    "output = m(input)"
   ]
  },
  {
   "cell_type": "code",
   "execution_count": 77,
   "metadata": {},
   "outputs": [],
   "source": [
    "m = nn.Dropout2d(p=0.2)\n",
    "input = autograd.Variable(torch.randn(20, 16, 32, 32))\n",
    "output = m(input)"
   ]
  },
  {
   "cell_type": "code",
   "execution_count": 78,
   "metadata": {},
   "outputs": [],
   "source": [
    "m = nn.Dropout3d(p=0.2)\n",
    "input = autograd.Variable(torch.randn(20, 16, 4, 32, 32))\n",
    "output = m(input)"
   ]
  },
  {
   "cell_type": "code",
   "execution_count": null,
   "metadata": {},
   "outputs": [],
   "source": []
  },
  {
   "cell_type": "code",
   "execution_count": 26,
   "metadata": {},
   "outputs": [
    {
     "ename": "NameError",
     "evalue": "name 'inp' is not defined",
     "output_type": "error",
     "traceback": [
      "\u001b[0;31m---------------------------------------------------------------------------\u001b[0m",
      "\u001b[0;31mNameError\u001b[0m                                 Traceback (most recent call last)",
      "\u001b[0;32m<ipython-input-26-2122627b6ea7>\u001b[0m in \u001b[0;36m<module>\u001b[0;34m()\u001b[0m\n\u001b[0;32m----> 1\u001b[0;31m \u001b[0minp\u001b[0m\u001b[0;34m\u001b[0m\u001b[0m\n\u001b[0m\u001b[1;32m      2\u001b[0m \u001b[0mm\u001b[0m \u001b[0;34m=\u001b[0m \u001b[0mnn\u001b[0m\u001b[0;34m.\u001b[0m\u001b[0mUpsamplingNearest2d\u001b[0m\u001b[0;34m(\u001b[0m\u001b[0mscale_factor\u001b[0m\u001b[0;34m=\u001b[0m\u001b[0;36m2\u001b[0m\u001b[0;34m)\u001b[0m\u001b[0;34m\u001b[0m\u001b[0m\n\u001b[1;32m      3\u001b[0m \u001b[0mm\u001b[0m\u001b[0;34m(\u001b[0m\u001b[0minp\u001b[0m\u001b[0;34m)\u001b[0m\u001b[0;34m\u001b[0m\u001b[0m\n",
      "\u001b[0;31mNameError\u001b[0m: name 'inp' is not defined"
     ]
    }
   ],
   "source": [
    "inp\n",
    "m = nn.UpsamplingNearest2d(scale_factor=2)\n",
    "m(inp)\n"
   ]
  },
  {
   "cell_type": "code",
   "execution_count": null,
   "metadata": {},
   "outputs": [],
   "source": [
    "inp\n",
    "m = nn.UpsamplingBilinear2d(scale_factor=2)\n",
    "m(inp)\n"
   ]
  },
  {
   "cell_type": "code",
   "execution_count": null,
   "metadata": {},
   "outputs": [],
   "source": []
  },
  {
   "cell_type": "code",
   "execution_count": null,
   "metadata": {},
   "outputs": [],
   "source": [
    "filters = autograd.Variable(torch.randn(33, 16, 3))\n",
    "inputs = autograd.Variable(torch.randn(20, 16, 50))\n",
    "F.conv1d(inputs, filters)"
   ]
  },
  {
   "cell_type": "code",
   "execution_count": null,
   "metadata": {},
   "outputs": [],
   "source": [
    "# With square kernels and equal stride\n",
    "filters = autograd.Variable(torch.randn(8,4,3,3))\n",
    "inputs = autograd.Variable(torch.randn(1,4,5,5))\n",
    "F.conv2d(inputs, filters, padding=1)"
   ]
  },
  {
   "cell_type": "code",
   "execution_count": null,
   "metadata": {},
   "outputs": [],
   "source": [
    "filters = autograd.Variable(torch.randn(33, 16, 3, 3, 3))\n",
    "inputs = autograd.Variable(torch.randn(20, 16, 50, 10, 20))\n",
    "F.conv3d(inputs, filters)"
   ]
  },
  {
   "cell_type": "code",
   "execution_count": 27,
   "metadata": {},
   "outputs": [
    {
     "data": {
      "text/plain": [
       "tensor([[[2., 4., 6.]]])"
      ]
     },
     "execution_count": 27,
     "metadata": {},
     "output_type": "execute_result"
    }
   ],
   "source": [
    "# pool of square window of size=3, stride=2\n",
    "input = Variable(torch.Tensor([[[1,2,3,4,5,6,7]]]))\n",
    "F.avg_pool1d(input, kernel_size=3, stride=2)\n"
   ]
  },
  {
   "cell_type": "code",
   "execution_count": null,
   "metadata": {},
   "outputs": [],
   "source": []
  },
  {
   "cell_type": "code",
   "execution_count": null,
   "metadata": {},
   "outputs": [],
   "source": [
    "w = torch.Tensor(3, 5)\n",
    "nn.init.uniform(w)"
   ]
  },
  {
   "cell_type": "code",
   "execution_count": null,
   "metadata": {},
   "outputs": [],
   "source": [
    "w = torch.Tensor(3, 5)\n",
    "nn.init.normal(w)"
   ]
  },
  {
   "cell_type": "code",
   "execution_count": null,
   "metadata": {},
   "outputs": [],
   "source": [
    "w = torch.Tensor(3, 5)\n",
    "nn.init.constant(w)"
   ]
  },
  {
   "cell_type": "code",
   "execution_count": null,
   "metadata": {},
   "outputs": [],
   "source": [
    "w = torch.Tensor(3, 5)\n",
    "nn.init.xavier_uniform(w, gain=math.sqrt(2.0))"
   ]
  },
  {
   "cell_type": "code",
   "execution_count": null,
   "metadata": {},
   "outputs": [],
   "source": [
    "w = torch.Tensor(3, 5)\n",
    "nn.init.xavier_normal(w)"
   ]
  },
  {
   "cell_type": "code",
   "execution_count": null,
   "metadata": {},
   "outputs": [],
   "source": []
  },
  {
   "cell_type": "code",
   "execution_count": null,
   "metadata": {},
   "outputs": [],
   "source": []
  },
  {
   "cell_type": "code",
   "execution_count": null,
   "metadata": {},
   "outputs": [],
   "source": [
    "optimizer = optim.SGD(model.parameters(), lr = 0.01, momentum=0.9)\n",
    "optimizer = optim.Adam([var1, var2], lr = 0.0001)"
   ]
  },
  {
   "cell_type": "code",
   "execution_count": null,
   "metadata": {},
   "outputs": [],
   "source": [
    "optim.SGD([\n",
    "    {'params': model.base.parameters()},\n",
    "    {'params': model.classifier.parameters(), 'lr': 1e-3}\n",
    "], lr=1e-2, momentum=0.9)"
   ]
  },
  {
   "cell_type": "code",
   "execution_count": null,
   "metadata": {},
   "outputs": [],
   "source": [
    "for input, target in dataset: \n",
    "    optimizer.zero_grad()\n",
    "    output = model(input)\n",
    "    loss = loss_fn(output, target) \n",
    "    loss.backward() \n",
    "    optimizer.step()"
   ]
  },
  {
   "cell_type": "code",
   "execution_count": null,
   "metadata": {},
   "outputs": [],
   "source": [
    "optimizer = torch.optim.SGD(model.parameters(), lr=0.1, momentum=0.9)\n",
    "optimizer.zero_grad()\n",
    "loss_fn(model(input), target).backward()\n",
    "optimizer.step()"
   ]
  },
  {
   "cell_type": "code",
   "execution_count": null,
   "metadata": {},
   "outputs": [],
   "source": []
  },
  {
   "cell_type": "code",
   "execution_count": 28,
   "metadata": {},
   "outputs": [],
   "source": [
    "v = Variable(torch.Tensor([0, 0, 0]), requires_grad=True)\n",
    "h = v.register_hook(lambda grad: grad * 2) # double the gradient \n",
    "v.backward(torch.Tensor([1, 1, 1]))\n",
    "v.grad.data\n",
    "h.remove() # removes the hook"
   ]
  },
  {
   "cell_type": "code",
   "execution_count": null,
   "metadata": {},
   "outputs": [],
   "source": []
  },
  {
   "cell_type": "code",
   "execution_count": null,
   "metadata": {},
   "outputs": [],
   "source": []
  },
  {
   "cell_type": "code",
   "execution_count": null,
   "metadata": {},
   "outputs": [],
   "source": [
    "dset.MNIST(root, train=True, transform=None, target_transform=None,\n",
    "download=False)\n",
    "• root : root directory of dataset where processed/training.pt and processed/test.pt exist.\n",
    "• train : True = Training set, False = Test set\n",
    "• download : True = downloads the dataset from the internet and puts it in root directory. If dataset already downloaded, place the processed dataset (function available in mnist.py) in the processed folder."
   ]
  },
  {
   "cell_type": "code",
   "execution_count": null,
   "metadata": {},
   "outputs": [],
   "source": []
  },
  {
   "cell_type": "code",
   "execution_count": null,
   "metadata": {},
   "outputs": [],
   "source": []
  },
  {
   "cell_type": "code",
   "execution_count": null,
   "metadata": {},
   "outputs": [],
   "source": [
    "import torchvision.models as models\n",
    "resnet18 = models.resnet18()\n",
    "alexnet = models.alexnet() \n",
    "squeezenet = models.squeezenet1_0() \n",
    "densenet = models.densenet_161()"
   ]
  },
  {
   "cell_type": "code",
   "execution_count": null,
   "metadata": {},
   "outputs": [],
   "source": [
    " import torchvision.models as models resnet18 = models.resnet18(pretrained=True) alexnet = models.alexnet(pretrained=True)"
   ]
  },
  {
   "cell_type": "code",
   "execution_count": null,
   "metadata": {},
   "outputs": [],
   "source": []
  },
  {
   "cell_type": "code",
   "execution_count": null,
   "metadata": {},
   "outputs": [],
   "source": [
    "transforms.Compose([\n",
    "transforms.CenterCrop(10),\n",
    "transforms.ToTensor(), \n",
    "    ])"
   ]
  },
  {
   "cell_type": "code",
   "execution_count": null,
   "metadata": {},
   "outputs": [],
   "source": []
  },
  {
   "cell_type": "code",
   "execution_count": null,
   "metadata": {},
   "outputs": [],
   "source": []
  },
  {
   "cell_type": "code",
   "execution_count": null,
   "metadata": {},
   "outputs": [],
   "source": []
  },
  {
   "cell_type": "code",
   "execution_count": null,
   "metadata": {},
   "outputs": [],
   "source": []
  },
  {
   "cell_type": "code",
   "execution_count": null,
   "metadata": {},
   "outputs": [],
   "source": []
  },
  {
   "cell_type": "code",
   "execution_count": null,
   "metadata": {},
   "outputs": [],
   "source": []
  },
  {
   "cell_type": "code",
   "execution_count": null,
   "metadata": {},
   "outputs": [],
   "source": []
  },
  {
   "cell_type": "code",
   "execution_count": null,
   "metadata": {},
   "outputs": [],
   "source": []
  },
  {
   "cell_type": "code",
   "execution_count": null,
   "metadata": {},
   "outputs": [],
   "source": []
  },
  {
   "cell_type": "code",
   "execution_count": null,
   "metadata": {},
   "outputs": [],
   "source": []
  },
  {
   "cell_type": "code",
   "execution_count": null,
   "metadata": {},
   "outputs": [],
   "source": []
  },
  {
   "cell_type": "code",
   "execution_count": null,
   "metadata": {},
   "outputs": [],
   "source": []
  }
 ],
 "metadata": {
  "kernelspec": {
   "display_name": "Python 2",
   "language": "python",
   "name": "python2"
  },
  "language_info": {
   "codemirror_mode": {
    "name": "ipython",
    "version": 2
   },
   "file_extension": ".py",
   "mimetype": "text/x-python",
   "name": "python",
   "nbconvert_exporter": "python",
   "pygments_lexer": "ipython2",
   "version": "2.7.10"
  }
 },
 "nbformat": 4,
 "nbformat_minor": 2
}
