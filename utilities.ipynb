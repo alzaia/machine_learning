{
 "cells": [
  {
   "cell_type": "code",
   "execution_count": null,
   "metadata": {},
   "outputs": [],
   "source": [
    "def make_prediction(X, params):\n",
    "    y = params[0] + (params[1] * X) + (params[2] * X**2) + (params[3] * X**3)\n",
    "    return y"
   ]
  },
  {
   "cell_type": "code",
   "execution_count": null,
   "metadata": {},
   "outputs": [],
   "source": [
    "def compute_cost(y, y_predicted):\n",
    "    squared_differences = [data**2 for data in (y-y_predicted)]\n",
    "    cost = sum(squared_differences) / float(len(y))   \n",
    "    return cost"
   ]
  },
  {
   "cell_type": "code",
   "execution_count": null,
   "metadata": {},
   "outputs": [],
   "source": [
    "def gradient_descent(X, y, params_current=[0,0,0,0], epochs=1000, learning_rate=0.0001):\n",
    "    cost_array = np.zeros((2,epochs))\n",
    "    for i in range(epochs):\n",
    "        y_current = make_prediction(X, params_current)\n",
    "        cost = compute_cost(y, y_current)\n",
    "        \n",
    "        \n",
    "        t0_grad = -2/float(len(y)) * sum(y - y_current) \n",
    "        t1_grad = -2/float(len(y)) * sum(X * (y - y_current))\n",
    "        t2_grad = -2/float(len(y)) * sum(X**2 * (y - y_current))\n",
    "        t3_grad = -2/float(len(y)) * sum(X**3 * (y - y_current))\n",
    "        \n",
    "        params_current = params_current - (learning_rate * params_current)\n",
    "\n",
    "        cost_array[:,i] = [i, cost]    \n",
    "    return params_current, cost, cost_array"
   ]
  },
  {
   "cell_type": "code",
   "execution_count": null,
   "metadata": {},
   "outputs": [],
   "source": [
    "[params_current, cost, cost_array] = gradient_descent(data_train[0], data_train[1], params_current=[0,0,0,0], epochs=10000, learning_rate=0.001)\n",
    "print(params_current, cost)"
   ]
  },
  {
   "cell_type": "code",
   "execution_count": null,
   "metadata": {},
   "outputs": [],
   "source": []
  },
  {
   "cell_type": "code",
   "execution_count": null,
   "metadata": {},
   "outputs": [],
   "source": []
  },
  {
   "cell_type": "code",
   "execution_count": null,
   "metadata": {},
   "outputs": [],
   "source": []
  },
  {
   "cell_type": "code",
   "execution_count": null,
   "metadata": {},
   "outputs": [],
   "source": [
    "from numpy import loadtxt\n",
    "lines = loadtxt(\"dataset1.txt\", delimiter=\",\", unpack=False)\n",
    "lines = np.transpose(lines)"
   ]
  },
  {
   "cell_type": "code",
   "execution_count": null,
   "metadata": {},
   "outputs": [],
   "source": []
  },
  {
   "cell_type": "code",
   "execution_count": null,
   "metadata": {},
   "outputs": [],
   "source": []
  },
  {
   "cell_type": "code",
   "execution_count": null,
   "metadata": {},
   "outputs": [],
   "source": []
  }
 ],
 "metadata": {
  "kernelspec": {
   "display_name": "Python 2",
   "language": "python",
   "name": "python2"
  },
  "language_info": {
   "codemirror_mode": {
    "name": "ipython",
    "version": 2
   },
   "file_extension": ".py",
   "mimetype": "text/x-python",
   "name": "python",
   "nbconvert_exporter": "python",
   "pygments_lexer": "ipython2",
   "version": "2.7.10"
  }
 },
 "nbformat": 4,
 "nbformat_minor": 2
}
