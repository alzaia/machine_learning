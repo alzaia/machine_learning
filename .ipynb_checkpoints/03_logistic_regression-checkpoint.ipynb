{
 "cells": [
  {
   "cell_type": "code",
   "execution_count": 3,
   "metadata": {},
   "outputs": [],
   "source": [
    "import matplotlib.pyplot as plt\n",
    "import numpy as np\n",
    "from sklearn import datasets\n",
    "\n",
    "%matplotlib inline"
   ]
  },
  {
   "cell_type": "code",
   "execution_count": null,
   "metadata": {},
   "outputs": [],
   "source": []
  },
  {
   "cell_type": "code",
   "execution_count": null,
   "metadata": {},
   "outputs": [],
   "source": []
  },
  {
   "cell_type": "code",
   "execution_count": 13,
   "metadata": {},
   "outputs": [
    {
     "name": "stdout",
     "output_type": "stream",
     "text": [
      "[[5.1 3.5 1.4]\n",
      " [4.9 3.  1.4]\n",
      " [4.7 3.2 1.3]\n",
      " [4.6 3.1 1.5]\n",
      " [5.  3.6 1.4]\n",
      " [5.4 3.9 1.7]\n",
      " [4.6 3.4 1.4]\n",
      " [5.  3.4 1.5]\n",
      " [4.4 2.9 1.4]\n",
      " [4.9 3.1 1.5]\n",
      " [5.4 3.7 1.5]\n",
      " [4.8 3.4 1.6]\n",
      " [4.8 3.  1.4]\n",
      " [4.3 3.  1.1]\n",
      " [5.8 4.  1.2]\n",
      " [5.7 4.4 1.5]\n",
      " [5.4 3.9 1.3]\n",
      " [5.1 3.5 1.4]\n",
      " [5.7 3.8 1.7]\n",
      " [5.1 3.8 1.5]\n",
      " [5.4 3.4 1.7]\n",
      " [5.1 3.7 1.5]\n",
      " [4.6 3.6 1. ]\n",
      " [5.1 3.3 1.7]\n",
      " [4.8 3.4 1.9]\n",
      " [5.  3.  1.6]\n",
      " [5.  3.4 1.6]\n",
      " [5.2 3.5 1.5]\n",
      " [5.2 3.4 1.4]\n",
      " [4.7 3.2 1.6]\n",
      " [4.8 3.1 1.6]\n",
      " [5.4 3.4 1.5]\n",
      " [5.2 4.1 1.5]\n",
      " [5.5 4.2 1.4]\n",
      " [4.9 3.1 1.5]\n",
      " [5.  3.2 1.2]\n",
      " [5.5 3.5 1.3]\n",
      " [4.9 3.6 1.4]\n",
      " [4.4 3.  1.3]\n",
      " [5.1 3.4 1.5]\n",
      " [5.  3.5 1.3]\n",
      " [4.5 2.3 1.3]\n",
      " [4.4 3.2 1.3]\n",
      " [5.  3.5 1.6]\n",
      " [5.1 3.8 1.9]\n",
      " [4.8 3.  1.4]\n",
      " [5.1 3.8 1.6]\n",
      " [4.6 3.2 1.4]\n",
      " [5.3 3.7 1.5]\n",
      " [5.  3.3 1.4]\n",
      " [7.  3.2 4.7]\n",
      " [6.4 3.2 4.5]\n",
      " [6.9 3.1 4.9]\n",
      " [5.5 2.3 4. ]\n",
      " [6.5 2.8 4.6]\n",
      " [5.7 2.8 4.5]\n",
      " [6.3 3.3 4.7]\n",
      " [4.9 2.4 3.3]\n",
      " [6.6 2.9 4.6]\n",
      " [5.2 2.7 3.9]\n",
      " [5.  2.  3.5]\n",
      " [5.9 3.  4.2]\n",
      " [6.  2.2 4. ]\n",
      " [6.1 2.9 4.7]\n",
      " [5.6 2.9 3.6]\n",
      " [6.7 3.1 4.4]\n",
      " [5.6 3.  4.5]\n",
      " [5.8 2.7 4.1]\n",
      " [6.2 2.2 4.5]\n",
      " [5.6 2.5 3.9]\n",
      " [5.9 3.2 4.8]\n",
      " [6.1 2.8 4. ]\n",
      " [6.3 2.5 4.9]\n",
      " [6.1 2.8 4.7]\n",
      " [6.4 2.9 4.3]\n",
      " [6.6 3.  4.4]\n",
      " [6.8 2.8 4.8]\n",
      " [6.7 3.  5. ]\n",
      " [6.  2.9 4.5]\n",
      " [5.7 2.6 3.5]\n",
      " [5.5 2.4 3.8]\n",
      " [5.5 2.4 3.7]\n",
      " [5.8 2.7 3.9]\n",
      " [6.  2.7 5.1]\n",
      " [5.4 3.  4.5]\n",
      " [6.  3.4 4.5]\n",
      " [6.7 3.1 4.7]\n",
      " [6.3 2.3 4.4]\n",
      " [5.6 3.  4.1]\n",
      " [5.5 2.5 4. ]\n",
      " [5.5 2.6 4.4]\n",
      " [6.1 3.  4.6]\n",
      " [5.8 2.6 4. ]\n",
      " [5.  2.3 3.3]\n",
      " [5.6 2.7 4.2]\n",
      " [5.7 3.  4.2]\n",
      " [5.7 2.9 4.2]\n",
      " [6.2 2.9 4.3]\n",
      " [5.1 2.5 3. ]\n",
      " [5.7 2.8 4.1]\n",
      " [6.3 3.3 6. ]\n",
      " [5.8 2.7 5.1]\n",
      " [7.1 3.  5.9]\n",
      " [6.3 2.9 5.6]\n",
      " [6.5 3.  5.8]\n",
      " [7.6 3.  6.6]\n",
      " [4.9 2.5 4.5]\n",
      " [7.3 2.9 6.3]\n",
      " [6.7 2.5 5.8]\n",
      " [7.2 3.6 6.1]\n",
      " [6.5 3.2 5.1]\n",
      " [6.4 2.7 5.3]\n",
      " [6.8 3.  5.5]\n",
      " [5.7 2.5 5. ]\n",
      " [5.8 2.8 5.1]\n",
      " [6.4 3.2 5.3]\n",
      " [6.5 3.  5.5]\n",
      " [7.7 3.8 6.7]\n",
      " [7.7 2.6 6.9]\n",
      " [6.  2.2 5. ]\n",
      " [6.9 3.2 5.7]\n",
      " [5.6 2.8 4.9]\n",
      " [7.7 2.8 6.7]\n",
      " [6.3 2.7 4.9]\n",
      " [6.7 3.3 5.7]\n",
      " [7.2 3.2 6. ]\n",
      " [6.2 2.8 4.8]\n",
      " [6.1 3.  4.9]\n",
      " [6.4 2.8 5.6]\n",
      " [7.2 3.  5.8]\n",
      " [7.4 2.8 6.1]\n",
      " [7.9 3.8 6.4]\n",
      " [6.4 2.8 5.6]\n",
      " [6.3 2.8 5.1]\n",
      " [6.1 2.6 5.6]\n",
      " [7.7 3.  6.1]\n",
      " [6.3 3.4 5.6]\n",
      " [6.4 3.1 5.5]\n",
      " [6.  3.  4.8]\n",
      " [6.9 3.1 5.4]\n",
      " [6.7 3.1 5.6]\n",
      " [6.9 3.1 5.1]\n",
      " [5.8 2.7 5.1]\n",
      " [6.8 3.2 5.9]\n",
      " [6.7 3.3 5.7]\n",
      " [6.7 3.  5.2]\n",
      " [6.3 2.5 5. ]\n",
      " [6.5 3.  5.2]\n",
      " [6.2 3.4 5.4]\n",
      " [5.9 3.  5.1]]\n",
      "(150, 3)\n",
      "[[0]\n",
      " [0]\n",
      " [0]\n",
      " [0]\n",
      " [0]\n",
      " [0]\n",
      " [0]\n",
      " [0]\n",
      " [0]\n",
      " [0]\n",
      " [0]\n",
      " [0]\n",
      " [0]\n",
      " [0]\n",
      " [0]\n",
      " [0]\n",
      " [0]\n",
      " [0]\n",
      " [0]\n",
      " [0]\n",
      " [0]\n",
      " [0]\n",
      " [0]\n",
      " [0]\n",
      " [0]\n",
      " [0]\n",
      " [0]\n",
      " [0]\n",
      " [0]\n",
      " [0]\n",
      " [0]\n",
      " [0]\n",
      " [0]\n",
      " [0]\n",
      " [0]\n",
      " [0]\n",
      " [0]\n",
      " [0]\n",
      " [0]\n",
      " [0]\n",
      " [0]\n",
      " [0]\n",
      " [0]\n",
      " [0]\n",
      " [0]\n",
      " [0]\n",
      " [0]\n",
      " [0]\n",
      " [0]\n",
      " [0]\n",
      " [1]\n",
      " [1]\n",
      " [1]\n",
      " [1]\n",
      " [1]\n",
      " [1]\n",
      " [1]\n",
      " [1]\n",
      " [1]\n",
      " [1]\n",
      " [1]\n",
      " [1]\n",
      " [1]\n",
      " [1]\n",
      " [1]\n",
      " [1]\n",
      " [1]\n",
      " [1]\n",
      " [1]\n",
      " [1]\n",
      " [1]\n",
      " [1]\n",
      " [1]\n",
      " [1]\n",
      " [1]\n",
      " [1]\n",
      " [1]\n",
      " [1]\n",
      " [1]\n",
      " [1]\n",
      " [1]\n",
      " [1]\n",
      " [1]\n",
      " [1]\n",
      " [1]\n",
      " [1]\n",
      " [1]\n",
      " [1]\n",
      " [1]\n",
      " [1]\n",
      " [1]\n",
      " [1]\n",
      " [1]\n",
      " [1]\n",
      " [1]\n",
      " [1]\n",
      " [1]\n",
      " [1]\n",
      " [1]\n",
      " [1]\n",
      " [2]\n",
      " [2]\n",
      " [2]\n",
      " [2]\n",
      " [2]\n",
      " [2]\n",
      " [2]\n",
      " [2]\n",
      " [2]\n",
      " [2]\n",
      " [2]\n",
      " [2]\n",
      " [2]\n",
      " [2]\n",
      " [2]\n",
      " [2]\n",
      " [2]\n",
      " [2]\n",
      " [2]\n",
      " [2]\n",
      " [2]\n",
      " [2]\n",
      " [2]\n",
      " [2]\n",
      " [2]\n",
      " [2]\n",
      " [2]\n",
      " [2]\n",
      " [2]\n",
      " [2]\n",
      " [2]\n",
      " [2]\n",
      " [2]\n",
      " [2]\n",
      " [2]\n",
      " [2]\n",
      " [2]\n",
      " [2]\n",
      " [2]\n",
      " [2]\n",
      " [2]\n",
      " [2]\n",
      " [2]\n",
      " [2]\n",
      " [2]\n",
      " [2]\n",
      " [2]\n",
      " [2]\n",
      " [2]\n",
      " [2]]\n",
      "(150, 1)\n"
     ]
    }
   ],
   "source": [
    "iris = sklearn.datasets.load_iris()\n",
    "\n",
    "data_X = iris.data[:, :3]\n",
    "print data_X\n",
    "print data_X.shape\n",
    "\n",
    "data_Y = iris.target\n",
    "data_Y = data_Y.reshape(150,1)\n",
    "print data_Y\n",
    "print data_Y.shape\n"
   ]
  },
  {
   "cell_type": "code",
   "execution_count": 17,
   "metadata": {},
   "outputs": [
    {
     "data": {
      "image/png": "[encoded data removed]",
      "text/plain": [
       "<Figure size 1008x216 with 3 Axes>"
      ]
     },
     "metadata": {
      "needs_background": "light"
     },
     "output_type": "display_data"
    }
   ],
   "source": [
    "plt.figure(figsize=(14,3))\n",
    "\n",
    "plt.subplot(131)\n",
    "plt.title('X1 vs X2')\n",
    "plt.xlabel('X1')\n",
    "plt.plot(data_X[0:,0], data_X[0:,1], 'bx')\n",
    "\n",
    "plt.subplot(132)\n",
    "plt.title('Y vs X2')\n",
    "plt.xlabel('X2')\n",
    "plt.plot(data_X[0:,0], data_X[0:,2], 'bx')\n",
    "\n",
    "plt.subplot(133)\n",
    "plt.title('Y vs X3')\n",
    "plt.xlabel('X3')\n",
    "plt.plot(data_X[0:,1], data_X[0:,2], 'bx')\n",
    "\n",
    "plt.show();"
   ]
  },
  {
   "cell_type": "code",
   "execution_count": null,
   "metadata": {},
   "outputs": [],
   "source": []
  },
  {
   "cell_type": "code",
   "execution_count": null,
   "metadata": {},
   "outputs": [],
   "source": [
    "z = np.dot(X, theta)\n",
    "h = sigmoid(z)"
   ]
  },
  {
   "cell_type": "code",
   "execution_count": null,
   "metadata": {},
   "outputs": [],
   "source": []
  },
  {
   "cell_type": "code",
   "execution_count": null,
   "metadata": {},
   "outputs": [],
   "source": []
  },
  {
   "cell_type": "code",
   "execution_count": 19,
   "metadata": {},
   "outputs": [],
   "source": [
    "def sigmoid_activation(z):\n",
    "    return 1 / (1 + np.exp(-z))\n",
    "\n",
    "\n"
   ]
  },
  {
   "cell_type": "code",
   "execution_count": 31,
   "metadata": {},
   "outputs": [
    {
     "data": {
      "text/plain": [
       "0.04742587317756678"
      ]
     },
     "execution_count": 31,
     "metadata": {},
     "output_type": "execute_result"
    }
   ],
   "source": [
    "sigmoid_activation(-3)"
   ]
  },
  {
   "cell_type": "code",
   "execution_count": null,
   "metadata": {},
   "outputs": [],
   "source": [
    "def compute_cost(y, y_predicted):\n",
    "    squared_differences = [data**2 for data in (y-y_predicted)]\n",
    "    cost = sum(squared_differences) / float(len(y))   \n",
    "    return cost"
   ]
  },
  {
   "cell_type": "code",
   "execution_count": null,
   "metadata": {},
   "outputs": [],
   "source": [
    "def loss(h, y):\n",
    "    return (-y * np.log(h) - (1 - y) * np.log(1 - h)).mean()"
   ]
  },
  {
   "cell_type": "code",
   "execution_count": null,
   "metadata": {},
   "outputs": [],
   "source": []
  },
  {
   "cell_type": "code",
   "execution_count": null,
   "metadata": {},
   "outputs": [],
   "source": []
  },
  {
   "cell_type": "code",
   "execution_count": null,
   "metadata": {},
   "outputs": [],
   "source": []
  },
  {
   "cell_type": "code",
   "execution_count": null,
   "metadata": {},
   "outputs": [],
   "source": []
  },
  {
   "cell_type": "code",
   "execution_count": null,
   "metadata": {},
   "outputs": [],
   "source": []
  },
  {
   "cell_type": "code",
   "execution_count": null,
   "metadata": {},
   "outputs": [],
   "source": []
  },
  {
   "cell_type": "code",
   "execution_count": null,
   "metadata": {},
   "outputs": [],
   "source": []
  },
  {
   "cell_type": "code",
   "execution_count": null,
   "metadata": {},
   "outputs": [],
   "source": []
  },
  {
   "cell_type": "code",
   "execution_count": null,
   "metadata": {},
   "outputs": [],
   "source": []
  },
  {
   "cell_type": "code",
   "execution_count": null,
   "metadata": {},
   "outputs": [],
   "source": []
  },
  {
   "cell_type": "code",
   "execution_count": 18,
   "metadata": {},
   "outputs": [
    {
     "ename": "SyntaxError",
     "evalue": "invalid syntax (<ipython-input-18-440d489435b7>, line 32)",
     "output_type": "error",
     "traceback": [
      "\u001b[0;36m  File \u001b[0;32m\"<ipython-input-18-440d489435b7>\"\u001b[0;36m, line \u001b[0;32m32\u001b[0m\n\u001b[0;31m    print(f'loss: {self.__loss(h, y)} \\t')\u001b[0m\n\u001b[0m                                        ^\u001b[0m\n\u001b[0;31mSyntaxError\u001b[0m\u001b[0;31m:\u001b[0m invalid syntax\n"
     ]
    }
   ],
   "source": [
    "class LogisticRegression:\n",
    "    def __init__(self, lr=0.01, num_iter=100000, fit_intercept=True, verbose=False):\n",
    "        self.lr = lr\n",
    "        self.num_iter = num_iter\n",
    "        self.fit_intercept = fit_intercept\n",
    "    \n",
    "    def __add_intercept(self, X):\n",
    "        intercept = np.ones((X.shape[0], 1))\n",
    "        return np.concatenate((intercept, X), axis=1)\n",
    "    \n",
    "    def __sigmoid(self, z):\n",
    "        return 1 / (1 + np.exp(-z))\n",
    "    def __loss(self, h, y):\n",
    "        return (-y * np.log(h) - (1 - y) * np.log(1 - h)).mean()\n",
    "    \n",
    "    def fit(self, X, y):\n",
    "        if self.fit_intercept:\n",
    "            X = self.__add_intercept(X)\n",
    "        \n",
    "        # weights initialization\n",
    "        self.theta = np.zeros(X.shape[1])\n",
    "        \n",
    "        for i in range(self.num_iter):\n",
    "            z = np.dot(X, self.theta)\n",
    "            h = self.__sigmoid(z)\n",
    "            gradient = np.dot(X.T, (h - y)) / y.size\n",
    "            self.theta -= self.lr * gradient\n",
    "            \n",
    "            if(self.verbose == True and i % 10000 == 0):\n",
    "                z = np.dot(X, self.theta)\n",
    "                h = self.__sigmoid(z)\n",
    "                print(f'loss: {self.__loss(h, y)} \\t')\n",
    "    \n",
    "    def predict_prob(self, X):\n",
    "        if self.fit_intercept:\n",
    "            X = self.__add_intercept(X)\n",
    "    \n",
    "        return self.__sigmoid(np.dot(X, self.theta))\n",
    "    \n",
    "    def predict(self, X, threshold):\n",
    "        return self.predict_prob(X) >= threshold"
   ]
  },
  {
   "cell_type": "code",
   "execution_count": null,
   "metadata": {},
   "outputs": [],
   "source": []
  },
  {
   "cell_type": "code",
   "execution_count": null,
   "metadata": {},
   "outputs": [],
   "source": []
  },
  {
   "cell_type": "code",
   "execution_count": null,
   "metadata": {},
   "outputs": [],
   "source": []
  },
  {
   "cell_type": "code",
   "execution_count": null,
   "metadata": {},
   "outputs": [],
   "source": []
  },
  {
   "cell_type": "code",
   "execution_count": null,
   "metadata": {},
   "outputs": [],
   "source": []
  },
  {
   "cell_type": "code",
   "execution_count": null,
   "metadata": {},
   "outputs": [],
   "source": []
  },
  {
   "cell_type": "code",
   "execution_count": null,
   "metadata": {},
   "outputs": [],
   "source": []
  },
  {
   "cell_type": "code",
   "execution_count": null,
   "metadata": {},
   "outputs": [],
   "source": []
  },
  {
   "cell_type": "code",
   "execution_count": null,
   "metadata": {},
   "outputs": [],
   "source": []
  },
  {
   "cell_type": "code",
   "execution_count": null,
   "metadata": {},
   "outputs": [],
   "source": []
  },
  {
   "cell_type": "code",
   "execution_count": null,
   "metadata": {},
   "outputs": [],
   "source": []
  },
  {
   "cell_type": "code",
   "execution_count": null,
   "metadata": {},
   "outputs": [],
   "source": []
  },
  {
   "cell_type": "code",
   "execution_count": 29,
   "metadata": {},
   "outputs": [],
   "source": []
  },
  {
   "cell_type": "code",
   "execution_count": 182,
   "metadata": {},
   "outputs": [
    {
     "name": "stdout",
     "output_type": "stream",
     "text": [
      "[[ 1.         -1.44422654 -1.55210058  1.5924099 ]\n",
      " [ 1.         -1.2953372  -1.48476433  1.4489754 ]\n",
      " [ 1.         -1.2953372  -1.41742807  1.36865207]\n",
      " [ 1.         -0.99755854 -1.01341057  1.32849041]\n",
      " [ 1.         -0.8486692  -0.87873807  1.12194472]\n",
      " [ 1.         -0.8486692  -0.81140182  0.88671213]\n",
      " [ 1.         -0.69977987 -0.81140182  0.6916412 ]\n",
      " [ 1.         -0.4020012  -0.34004807  0.35313576]\n",
      " [ 1.         -0.4020012  -0.27271181  0.11790317]\n",
      " [ 1.         -0.25311187 -0.07070306 -0.0083192 ]\n",
      " [ 1.         -0.10422253 -0.00336681 -0.26076393]\n",
      " [ 1.          0.0446668   0.26597819 -0.39272368]\n",
      " [ 1.          0.34244547  0.46798694 -0.64516842]\n",
      " [ 1.          0.64022413  0.53532319 -0.78860292]\n",
      " [ 1.          0.78911347  0.87200445 -0.96646171]\n",
      " [ 1.          0.78911347  1.0740132  -1.0869467 ]\n",
      " [ 1.          1.08689214  1.14134945 -1.09268408]\n",
      " [ 1.          1.23578147  1.2086857  -1.15579526]\n",
      " [ 1.          1.68244947  1.41069445 -1.21890645]\n",
      " [ 1.          1.98022814  1.68003945 -1.29349239]]\n"
     ]
    }
   ],
   "source": [
    "# Feature scaling\n",
    "\n",
    "feature_means = np.mean(data_X, axis=0)\n",
    "feature_stds = np.std(data_X, axis=0)\n",
    "\n",
    "data_X_scaled = np.ones((20,4))\n",
    "array_means = np.tile(feature_means,(20,1))\n",
    "array_stds = np.tile(feature_stds,(20,1))\n",
    "\n",
    "data_X_scaled[0:,1:4] = (data_X[0:,1:4]-array_means[0:,1:4]) / array_stds[0:,1:4]\n",
    "print data_X_scaled"
   ]
  },
  {
   "cell_type": "code",
   "execution_count": null,
   "metadata": {},
   "outputs": [],
   "source": []
  },
  {
   "cell_type": "code",
   "execution_count": null,
   "metadata": {},
   "outputs": [],
   "source": []
  },
  {
   "cell_type": "code",
   "execution_count": null,
   "metadata": {},
   "outputs": [],
   "source": []
  },
  {
   "cell_type": "code",
   "execution_count": null,
   "metadata": {},
   "outputs": [],
   "source": []
  },
  {
   "cell_type": "code",
   "execution_count": null,
   "metadata": {},
   "outputs": [],
   "source": []
  },
  {
   "cell_type": "code",
   "execution_count": null,
   "metadata": {},
   "outputs": [],
   "source": []
  },
  {
   "cell_type": "code",
   "execution_count": 261,
   "metadata": {},
   "outputs": [
    {
     "name": "stdout",
     "output_type": "stream",
     "text": [
      "[[36.1       ]\n",
      " [-0.91762038]\n",
      " [ 5.56269974]\n",
      " [-2.46764019]]\n",
      "[[24.86188755]\n",
      " [25.45377976]\n",
      " [26.02656017]\n",
      " [28.09984499]\n",
      " [29.22204424]\n",
      " [30.17708498]\n",
      " [30.52182596]\n",
      " [33.70588722]\n",
      " [34.66092796]\n",
      " [35.95948949]\n",
      " [36.82037972]\n",
      " [38.50767038]\n",
      " [39.98107941]\n",
      " [40.43634774]\n",
      " [42.61147207]\n",
      " [44.03249969]\n",
      " [44.14798105]\n",
      " [44.5416642 ]\n",
      " [45.41124226]\n",
      " [46.82033114]]\n"
     ]
    }
   ],
   "source": [
    "# Normal equation\n",
    "\n",
    "\n",
    "true_params = np.dot(np.dot(np.linalg.pinv(np.dot(data_X_scaled.T, data_X_scaled)),data_X_scaled.T), data_Y)\n",
    "print true_params\n",
    "\n",
    "y_pred = make_prediction(true_params, data_X_scaled)\n",
    "print y_pred\n",
    "\n",
    "\n"
   ]
  },
  {
   "cell_type": "code",
   "execution_count": null,
   "metadata": {},
   "outputs": [],
   "source": []
  },
  {
   "cell_type": "code",
   "execution_count": null,
   "metadata": {},
   "outputs": [],
   "source": []
  },
  {
   "cell_type": "code",
   "execution_count": null,
   "metadata": {},
   "outputs": [],
   "source": []
  },
  {
   "cell_type": "markdown",
   "metadata": {},
   "source": [
    "X training data is 20x4\n",
    "Y is 20x1\n",
    "Y predicted has to be 20x1\n",
    "Y pred (20x1) = X training (20x4) * Params (4x1)"
   ]
  },
  {
   "cell_type": "code",
   "execution_count": 203,
   "metadata": {},
   "outputs": [],
   "source": [
    "def make_prediction(params,X):\n",
    "    y = np.dot(X, params)\n",
    "    return y"
   ]
  },
  {
   "cell_type": "code",
   "execution_count": 217,
   "metadata": {},
   "outputs": [
    {
     "name": "stdout",
     "output_type": "stream",
     "text": [
      "[[0.]\n",
      " [0.]\n",
      " [0.]\n",
      " [0.]]\n",
      "[[0.]\n",
      " [0.]\n",
      " [0.]\n",
      " [0.]\n",
      " [0.]\n",
      " [0.]\n",
      " [0.]\n",
      " [0.]\n",
      " [0.]\n",
      " [0.]\n",
      " [0.]\n",
      " [0.]\n",
      " [0.]\n",
      " [0.]\n",
      " [0.]\n",
      " [0.]\n",
      " [0.]\n",
      " [0.]\n",
      " [0.]\n",
      " [0.]]\n"
     ]
    }
   ],
   "source": [
    "params=np.zeros((4,1))\n",
    "print params\n",
    "y_pred = make_prediction(params, data_X_scaled)\n",
    "print y_pred\n"
   ]
  },
  {
   "cell_type": "code",
   "execution_count": null,
   "metadata": {},
   "outputs": [],
   "source": []
  },
  {
   "cell_type": "code",
   "execution_count": null,
   "metadata": {},
   "outputs": [],
   "source": []
  },
  {
   "cell_type": "code",
   "execution_count": null,
   "metadata": {},
   "outputs": [],
   "source": []
  },
  {
   "cell_type": "code",
   "execution_count": null,
   "metadata": {},
   "outputs": [],
   "source": []
  },
  {
   "cell_type": "code",
   "execution_count": null,
   "metadata": {},
   "outputs": [],
   "source": []
  },
  {
   "cell_type": "code",
   "execution_count": 43,
   "metadata": {},
   "outputs": [],
   "source": [
    "def compute_cost(y, y_predicted):\n",
    "    squared_differences = [data**2 for data in (y-y_predicted)]\n",
    "    cost = sum(squared_differences) / float(len(y))   \n",
    "    return cost"
   ]
  },
  {
   "cell_type": "code",
   "execution_count": 101,
   "metadata": {},
   "outputs": [
    {
     "name": "stdout",
     "output_type": "stream",
     "text": [
      "[1545614.394145 1539393.885145 1533191.376145 1527006.867145\n",
      " 1529066.370145 1524949.364145 1522893.861145 1520840.358145\n",
      " 1514691.849145 1512646.346145 1504484.334145 1512646.346145\n",
      " 1506521.837145 1508561.340145 1504484.334145 1502448.831145\n",
      " 1498383.825145 1496354.322145 1496354.322145 1490277.813145]\n",
      "[21. 24. 27. 30. 29. 31. 32. 33. 36. 37. 41. 37. 40. 39. 41. 42. 44. 45.\n",
      " 45. 48.]\n",
      "[[2149.36]\n",
      " [2051.39]\n",
      " [1995.42]\n",
      " [1971.6 ]\n",
      " [1829.66]\n",
      " [1665.69]\n",
      " [1531.69]\n",
      " [1299.9 ]\n",
      " [1135.93]\n",
      " [1050.02]\n",
      " [ 876.05]\n",
      " [ 786.17]\n",
      " [ 614.26]\n",
      " [ 518.29]\n",
      " [ 396.44]\n",
      " [ 312.53]\n",
      " [ 312.56]\n",
      " [ 270.59]\n",
      " [ 232.68]\n",
      " [ 184.8 ]]\n"
     ]
    }
   ],
   "source": [
    "y_test = make_prediction(params, data_X)\n",
    "cost = compute_cost(data_train[3].T, y_test)\n",
    "print cost\n",
    "print data_train[3].T\n",
    "print y_test"
   ]
  },
  {
   "cell_type": "code",
   "execution_count": null,
   "metadata": {},
   "outputs": [],
   "source": []
  },
  {
   "cell_type": "code",
   "execution_count": null,
   "metadata": {},
   "outputs": [],
   "source": []
  },
  {
   "cell_type": "code",
   "execution_count": null,
   "metadata": {},
   "outputs": [],
   "source": []
  },
  {
   "cell_type": "code",
   "execution_count": null,
   "metadata": {},
   "outputs": [],
   "source": []
  },
  {
   "cell_type": "code",
   "execution_count": null,
   "metadata": {},
   "outputs": [],
   "source": []
  },
  {
   "cell_type": "code",
   "execution_count": null,
   "metadata": {},
   "outputs": [],
   "source": []
  },
  {
   "cell_type": "code",
   "execution_count": 255,
   "metadata": {},
   "outputs": [],
   "source": [
    "def gradient_descent(X, y, params_current, epochs, learning_rate):\n",
    "    \n",
    "    cost_array = np.zeros((2,epochs))\n",
    "    \n",
    "    for i in range(epochs):\n",
    "        \n",
    "        y_current = make_prediction(params_current,X)\n",
    "        # print y_current\n",
    "        \n",
    "        cost = compute_cost(y, y_current)\n",
    "        # print cost\n",
    "        \n",
    "        gradients = -2/float(len(y)) * (np.dot(X.T,y - y_current))\n",
    "        params_current = params_current - (learning_rate * gradients)\n",
    "\n",
    "\n",
    "        cost_array[:,i] = [i, cost]    \n",
    "    return params_current, cost, cost_array"
   ]
  },
  {
   "cell_type": "code",
   "execution_count": 276,
   "metadata": {},
   "outputs": [
    {
     "name": "stdout",
     "output_type": "stream",
     "text": [
      "Params found:\n",
      "[[35.44144845]\n",
      " [ 2.12261737]\n",
      " [ 2.43967156]\n",
      " [-2.57627641]]\n",
      "Params true:\n",
      "[[36.1       ]\n",
      " [-0.91762038]\n",
      " [ 5.56269974]\n",
      " [-2.46764019]]\n",
      "[[24.48680442]\n",
      " [25.33664478]\n",
      " [25.7078582 ]\n",
      " [27.42906593]\n",
      " [28.60577648]\n",
      " [29.37607899]\n",
      " [30.19467071]\n",
      " [32.8487728 ]\n",
      " [33.61907532]\n",
      " [34.75312911]\n",
      " [35.88380995]\n",
      " [37.19692316]\n",
      " [38.97219574]\n",
      " [40.13807119]\n",
      " [41.73371135]\n",
      " [42.53694899]\n",
      " [43.34807857]\n",
      " [43.99098385]\n",
      " [45.59451596]\n",
      " [47.07585348]]\n",
      "[[-3.48680442]\n",
      " [-1.33664478]\n",
      " [ 1.2921418 ]\n",
      " [ 2.57093407]\n",
      " [ 0.39422352]\n",
      " [ 1.62392101]\n",
      " [ 1.80532929]\n",
      " [ 0.1512272 ]\n",
      " [ 2.38092468]\n",
      " [ 2.24687089]\n",
      " [ 5.11619005]\n",
      " [-0.19692316]\n",
      " [ 1.02780426]\n",
      " [-1.13807119]\n",
      " [-0.73371135]\n",
      " [-0.53694899]\n",
      " [ 0.65192143]\n",
      " [ 1.00901615]\n",
      " [-0.59451596]\n",
      " [ 0.92414652]]\n",
      "[[24.86188755]\n",
      " [25.45377976]\n",
      " [26.02656017]\n",
      " [28.09984499]\n",
      " [29.22204424]\n",
      " [30.17708498]\n",
      " [30.52182596]\n",
      " [33.70588722]\n",
      " [34.66092796]\n",
      " [35.95948949]\n",
      " [36.82037972]\n",
      " [38.50767038]\n",
      " [39.98107941]\n",
      " [40.43634774]\n",
      " [42.61147207]\n",
      " [44.03249969]\n",
      " [44.14798105]\n",
      " [44.5416642 ]\n",
      " [45.41124226]\n",
      " [46.82033114]]\n",
      "[[-3.86188755]\n",
      " [-1.45377976]\n",
      " [ 0.97343983]\n",
      " [ 1.90015501]\n",
      " [-0.22204424]\n",
      " [ 0.82291502]\n",
      " [ 1.47817404]\n",
      " [-0.70588722]\n",
      " [ 1.33907204]\n",
      " [ 1.04051051]\n",
      " [ 4.17962028]\n",
      " [-1.50767038]\n",
      " [ 0.01892059]\n",
      " [-1.43634774]\n",
      " [-1.61147207]\n",
      " [-2.03249969]\n",
      " [-0.14798105]\n",
      " [ 0.4583358 ]\n",
      " [-0.41124226]\n",
      " [ 1.17966886]]\n"
     ]
    }
   ],
   "source": [
    "[params_current, cost, cost_array] = gradient_descent(data_X_scaled, data_Y, params_current=np.zeros((4,1)), epochs=2000, learning_rate=0.001)\n",
    "\n",
    "print 'Params found:'\n",
    "print params_current\n",
    "print 'Params true:'\n",
    "print true_params\n",
    "\n",
    "y_pred = make_prediction(params_current, data_X_scaled)\n",
    "print y_pred\n",
    "\n",
    "print data_Y-y_pred\n",
    "\n",
    "y_pred = make_prediction(true_params, data_X_scaled)\n",
    "print y_pred\n",
    "\n",
    "print data_Y-y_pred\n",
    "\n"
   ]
  },
  {
   "cell_type": "code",
   "execution_count": 272,
   "metadata": {},
   "outputs": [
    {
     "data": {
      "image/png": "[encoded data removed]",
      "text/plain": [
       "<Figure size 432x288 with 1 Axes>"
      ]
     },
     "metadata": {
      "needs_background": "light"
     },
     "output_type": "display_data"
    }
   ],
   "source": [
    "plt.plot(cost_array[0], cost_array[1])\n",
    "plt.ylabel('Cost')\n",
    "plt.xlabel('epochs')\n",
    "plt.title('Cost vs epochs')\n",
    "plt.show()"
   ]
  },
  {
   "cell_type": "code",
   "execution_count": null,
   "metadata": {},
   "outputs": [],
   "source": []
  },
  {
   "cell_type": "code",
   "execution_count": null,
   "metadata": {},
   "outputs": [],
   "source": []
  },
  {
   "cell_type": "code",
   "execution_count": null,
   "metadata": {},
   "outputs": [],
   "source": []
  },
  {
   "cell_type": "code",
   "execution_count": null,
   "metadata": {},
   "outputs": [],
   "source": [
    "        #gradients = -2/float(len(y)) * sum(X * (y - y_current))\n",
    "        #params_current = params_current - (learning_rate * gradients)\n"
   ]
  },
  {
   "cell_type": "code",
   "execution_count": null,
   "metadata": {},
   "outputs": [],
   "source": []
  },
  {
   "cell_type": "code",
   "execution_count": null,
   "metadata": {},
   "outputs": [],
   "source": []
  }
 ],
 "metadata": {
  "kernelspec": {
   "display_name": "Python 2",
   "language": "python",
   "name": "python2"
  },
  "language_info": {
   "codemirror_mode": {
    "name": "ipython",
    "version": 2
   },
   "file_extension": ".py",
   "mimetype": "text/x-python",
   "name": "python",
   "nbconvert_exporter": "python",
   "pygments_lexer": "ipython2",
   "version": "2.7.10"
  }
 },
 "nbformat": 4,
 "nbformat_minor": 2
}
